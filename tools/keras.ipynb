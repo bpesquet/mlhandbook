{
 "cells": [
  {
   "cell_type": "markdown",
   "metadata": {
    "slideshow": {
     "slide_type": "slide"
    }
   },
   "source": [
    "# Keras"
   ]
  },
  {
   "cell_type": "markdown",
   "metadata": {
    "slideshow": {
     "slide_type": "slide"
    }
   },
   "source": [
    "## The Sequential model"
   ]
  },
  {
   "cell_type": "markdown",
   "metadata": {
    "slideshow": {
     "slide_type": "slide"
    }
   },
   "source": [
    "### Description\n",
    "\n",
    "A *Sequential* model creates a linear stack of layers where each layer has exactly one input tensor and one output tensor.\n",
    "\n",
    "Upon adding a new layer to the stack, Keras can automatically infer its input shape from the output shape of the previous layer.\n",
    "\n",
    "It is the easiest way to create simple neural networks architectures with Keras."
   ]
  },
  {
   "cell_type": "markdown",
   "metadata": {
    "slideshow": {
     "slide_type": "slide"
    }
   },
   "source": [
    "### Example: creating a fully connected neural network\n",
    "\n",
    "A *fully connected* or *dense* neural network is an architecture where all the nodes (neurons) in one layer are connected to the neurons in the next layer."
   ]
  },
  {
   "cell_type": "markdown",
   "metadata": {
    "slideshow": {
     "slide_type": "slide"
    }
   },
   "source": [
    "#### Environment setup"
   ]
  },
  {
   "cell_type": "code",
   "execution_count": 1,
   "metadata": {},
   "outputs": [
    {
     "name": "stdout",
     "output_type": "stream",
     "text": [
      "Python version: 3.7.5\n"
     ]
    }
   ],
   "source": [
    "import platform\n",
    "\n",
    "print(f\"Python version: {platform.python_version()}\")\n",
    "assert platform.python_version_tuple() >= (\"3\", \"6\")\n",
    "\n",
    "import numpy as np\n",
    "import matplotlib\n",
    "import matplotlib.pyplot as plt\n",
    "import seaborn as sns"
   ]
  },
  {
   "cell_type": "code",
   "execution_count": 2,
   "metadata": {
    "slideshow": {
     "slide_type": "-"
    }
   },
   "outputs": [],
   "source": [
    "# Setup plots\n",
    "%matplotlib inline\n",
    "plt.rcParams[\"figure.figsize\"] = 10, 8\n",
    "%config InlineBackend.figure_format = 'retina'\n",
    "sns.set()"
   ]
  },
  {
   "cell_type": "code",
   "execution_count": 52,
   "metadata": {
    "slideshow": {
     "slide_type": "slide"
    }
   },
   "outputs": [
    {
     "name": "stdout",
     "output_type": "stream",
     "text": [
      "scikit-learn version: 0.22.1\n",
      "TensorFlow version: 2.3.1\n",
      "Keras version: 2.4.0\n"
     ]
    }
   ],
   "source": [
    "import sklearn\n",
    "\n",
    "print(f\"scikit-learn version: {sklearn.__version__}\")\n",
    "\n",
    "from sklearn.datasets import make_blobs\n",
    "\n",
    "import tensorflow as tf\n",
    "\n",
    "print(f\"TensorFlow version: {tf.__version__}\")\n",
    "print(f\"Keras version: {tf.keras.__version__}\")\n",
    "\n",
    "from tensorflow.keras.models import Sequential\n",
    "from tensorflow.keras.layers import (\n",
    "    Dense,\n",
    "    Flatten,\n",
    "    Reshape,\n",
    "    Dropout,\n",
    "    BatchNormalization,\n",
    "    Conv1D,\n",
    "    Conv2D,\n",
    "    Conv2DTranspose,\n",
    "    MaxPooling2D,\n",
    "    SimpleRNN,\n",
    "    LSTM,\n",
    "    GRU,\n",
    ")"
   ]
  },
  {
   "cell_type": "code",
   "execution_count": 4,
   "metadata": {
    "slideshow": {
     "slide_type": "skip"
    },
    "tags": [
     "hide-input"
    ]
   },
   "outputs": [],
   "source": [
    "def plot_loss_acc(history):\n",
    "    \"\"\"Plot training and (optionally) validation loss and accuracy\n",
    "    Takes a Keras History object as parameter\"\"\"\n",
    "\n",
    "    loss = history.history[\"loss\"]\n",
    "    epochs = range(1, len(loss) + 1)\n",
    "\n",
    "    plt.figure(figsize=(10, 10))\n",
    "\n",
    "    plt.subplot(2, 1, 1)\n",
    "    plt.plot(epochs, loss, \".--\", label=\"Training loss\")\n",
    "    final_loss = loss[-1]\n",
    "    title = \"Training loss: {:.4f}\".format(final_loss)\n",
    "    plt.ylabel(\"Loss\")\n",
    "    if \"val_loss\" in history.history:\n",
    "        val_loss = history.history[\"val_loss\"]\n",
    "        plt.plot(epochs, val_loss, \"o-\", label=\"Validation loss\")\n",
    "        final_val_loss = val_loss[-1]\n",
    "        title += \", Validation loss: {:.4f}\".format(final_val_loss)\n",
    "    plt.title(title)\n",
    "    plt.legend()\n",
    "\n",
    "    acc = history.history[\"accuracy\"]\n",
    "\n",
    "    plt.subplot(2, 1, 2)\n",
    "    plt.plot(epochs, acc, \".--\", label=\"Training acc\")\n",
    "    final_acc = acc[-1]\n",
    "    title = \"Training accuracy: {:.2f}%\".format(final_acc * 100)\n",
    "    plt.xlabel(\"Epochs\")\n",
    "    plt.ylabel(\"Accuracy\")\n",
    "    if \"val_accuracy\" in history.history:\n",
    "        val_acc = history.history[\"val_accuracy\"]\n",
    "        plt.plot(epochs, val_acc, \"o-\", label=\"Validation acc\")\n",
    "        final_val_acc = val_acc[-1]\n",
    "        title += \", Validation accuracy: {:.2f}%\".format(final_val_acc * 100)\n",
    "    plt.title(title)\n",
    "    plt.legend()"
   ]
  },
  {
   "cell_type": "markdown",
   "metadata": {
    "slideshow": {
     "slide_type": "slide"
    }
   },
   "source": [
    "#### Data generation"
   ]
  },
  {
   "cell_type": "code",
   "execution_count": 5,
   "metadata": {
    "slideshow": {
     "slide_type": "-"
    }
   },
   "outputs": [],
   "source": [
    "# Generate some data for training\n",
    "# Each sample has 3 features and belongs to one of 2 classes\n",
    "x_train, y_train = make_blobs(\n",
    "    n_samples=1000, n_features=3, centers=2, cluster_std=2.0, random_state=11\n",
    ")"
   ]
  },
  {
   "cell_type": "markdown",
   "metadata": {
    "slideshow": {
     "slide_type": "slide"
    }
   },
   "source": [
    "#### Expected network architecture\n",
    "\n",
    "![A simple neural network](images/neural_net2.jpeg)"
   ]
  },
  {
   "cell_type": "markdown",
   "metadata": {
    "slideshow": {
     "slide_type": "slide"
    }
   },
   "source": [
    "#### Model creation"
   ]
  },
  {
   "cell_type": "code",
   "execution_count": 6,
   "metadata": {
    "slideshow": {
     "slide_type": "-"
    }
   },
   "outputs": [],
   "source": [
    "# Create a new sequential model\n",
    "seq_model = Sequential()\n",
    "\n",
    "# Add a 4-neurons layer using tanh as activation function\n",
    "# Input shape corresponds the number of input features (here 3)\n",
    "seq_model.add(Dense(4, activation='tanh', input_shape=(3,)))\n",
    "\n",
    "# Add a 4-neurons layer using tanh\n",
    "# Input shape is infered from previous layer\n",
    "seq_model.add(Dense(4, activation='tanh'))\n",
    "\n",
    "# Add a 1-neuron output layer using sigmoid\n",
    "seq_model.add(Dense(1, activation='sigmoid'))"
   ]
  },
  {
   "cell_type": "code",
   "execution_count": 7,
   "metadata": {
    "slideshow": {
     "slide_type": "slide"
    }
   },
   "outputs": [
    {
     "name": "stdout",
     "output_type": "stream",
     "text": [
      "Model: \"sequential\"\n",
      "_________________________________________________________________\n",
      "Layer (type)                 Output Shape              Param #   \n",
      "=================================================================\n",
      "dense (Dense)                (None, 4)                 16        \n",
      "_________________________________________________________________\n",
      "dense_1 (Dense)              (None, 4)                 20        \n",
      "_________________________________________________________________\n",
      "dense_2 (Dense)              (None, 1)                 5         \n",
      "=================================================================\n",
      "Total params: 41\n",
      "Trainable params: 41\n",
      "Non-trainable params: 0\n",
      "_________________________________________________________________\n"
     ]
    }
   ],
   "source": [
    "# Print a summary of model architecture\n",
    "# (Can you justify the parameter counts for each layer?)\n",
    "seq_model.summary()"
   ]
  },
  {
   "cell_type": "markdown",
   "metadata": {
    "slideshow": {
     "slide_type": "slide"
    }
   },
   "source": [
    "#### Model compilation"
   ]
  },
  {
   "cell_type": "code",
   "execution_count": 8,
   "metadata": {
    "slideshow": {
     "slide_type": "-"
    }
   },
   "outputs": [],
   "source": [
    "# Configuration of the training process\n",
    "#   optimizer: gradient descent optimization method\n",
    "#   loss: loss function\n",
    "#   metrics: list of metrics monitored during training and testing\n",
    "seq_model.compile(optimizer=\"rmsprop\", loss=\"binary_crossentropy\", metrics=[\"accuracy\"])"
   ]
  },
  {
   "cell_type": "markdown",
   "metadata": {
    "slideshow": {
     "slide_type": "slide"
    }
   },
   "source": [
    "#### Model training"
   ]
  },
  {
   "cell_type": "code",
   "execution_count": 9,
   "metadata": {
    "slideshow": {
     "slide_type": "-"
    }
   },
   "outputs": [
    {
     "name": "stdout",
     "output_type": "stream",
     "text": [
      "Epoch 1/10\n",
      "32/32 [==============================] - 0s 1ms/step - loss: 0.4972 - accuracy: 0.9490\n",
      "Epoch 2/10\n",
      "32/32 [==============================] - 0s 1ms/step - loss: 0.4209 - accuracy: 0.9760\n",
      "Epoch 3/10\n",
      "32/32 [==============================] - 0s 2ms/step - loss: 0.3533 - accuracy: 0.9840\n",
      "Epoch 4/10\n",
      "32/32 [==============================] - 0s 1ms/step - loss: 0.2929 - accuracy: 0.9900\n",
      "Epoch 5/10\n",
      "32/32 [==============================] - 0s 1ms/step - loss: 0.2396 - accuracy: 0.9940\n",
      "Epoch 6/10\n",
      "32/32 [==============================] - 0s 1ms/step - loss: 0.1923 - accuracy: 0.9950\n",
      "Epoch 7/10\n",
      "32/32 [==============================] - 0s 1ms/step - loss: 0.1526 - accuracy: 0.9950\n",
      "Epoch 8/10\n",
      "32/32 [==============================] - 0s 2ms/step - loss: 0.1201 - accuracy: 0.9960\n",
      "Epoch 9/10\n",
      "32/32 [==============================] - 0s 2ms/step - loss: 0.0939 - accuracy: 0.9970\n",
      "Epoch 10/10\n",
      "32/32 [==============================] - 0s 1ms/step - loss: 0.0740 - accuracy: 0.9970\n"
     ]
    }
   ],
   "source": [
    "# Launch the training of the model on the data\n",
    "#   epochs: number of epochs to train the model\n",
    "#     An epoch is an iteration over the entire training dataset\n",
    "#   batch_size: number of samples used for each gradient descent step\n",
    "#     number of GD steps in an epoch = x_train.size / batch_size (rounded up)\n",
    "#     total number of GD steps = epoch_GD_steps * epochs\n",
    "#   verbose: level of information outputted during training\n",
    "#     0 = silent, 1 = progress bar, 2 = one line per epoch\n",
    "# The returned history object contains a record of loss and metrics values\n",
    "history = seq_model.fit(x_train, y_train, epochs=10, batch_size=32, verbose=1)"
   ]
  },
  {
   "cell_type": "markdown",
   "metadata": {
    "slideshow": {
     "slide_type": "slide"
    }
   },
   "source": [
    "#### Model evaluation"
   ]
  },
  {
   "cell_type": "code",
   "execution_count": 10,
   "metadata": {},
   "outputs": [
    {
     "name": "stdout",
     "output_type": "stream",
     "text": [
      "Training loss: 0.06517\n",
      "Training accuracy: 0.99700\n"
     ]
    }
   ],
   "source": [
    "# Compute the loss & metrics values for the trained network\n",
    "loss, acc = seq_model.evaluate(x_train, y_train, verbose=0)\n",
    "\n",
    "print(f\"Training loss: {loss:.05f}\")\n",
    "print(f\"Training accuracy: {acc:.05f}\")"
   ]
  },
  {
   "cell_type": "code",
   "execution_count": 11,
   "metadata": {
    "slideshow": {
     "slide_type": "slide"
    }
   },
   "outputs": [
    {
     "data": {
      "image/png": "[encoded data removed]",
      "text/plain": [
       "<Figure size 720x720 with 2 Axes>"
      ]
     },
     "metadata": {
      "image/png": {
       "height": 607,
       "width": 618
      }
     },
     "output_type": "display_data"
    }
   ],
   "source": [
    "# Plot training metrics\n",
    "plot_loss_acc(history)"
   ]
  },
  {
   "cell_type": "markdown",
   "metadata": {
    "slideshow": {
     "slide_type": "slide"
    }
   },
   "source": [
    "## Layers API"
   ]
  },
  {
   "cell_type": "markdown",
   "metadata": {
    "slideshow": {
     "slide_type": "slide"
    }
   },
   "source": [
    "### What is a layer?\n",
    "\n",
    "Layers are the basic building blocks of neural networks in Keras.\n",
    "\n",
    "A layer is a simple input-output transformation. It encapsulates a state (weights) and some computation.\n",
    "\n",
    "Keras offers many layers for various purposes (convolution, pooling, normalization...). See the [official documentation](https://keras.io/api/layers/) for details."
   ]
  },
  {
   "cell_type": "markdown",
   "metadata": {
    "slideshow": {
     "slide_type": "slide"
    }
   },
   "source": [
    "### Core layers"
   ]
  },
  {
   "cell_type": "markdown",
   "metadata": {
    "slideshow": {
     "slide_type": "-"
    }
   },
   "source": [
    "#### Dense layer\n",
    "\n",
    "Defines a fully connected layer. Implements a weighted sum of its inputs plus a bias.\n",
    "\n",
    "- Input shape: *(batch_size, input_dim)*\n",
    "- Output shape: *(batch_size, units)*"
   ]
  },
  {
   "cell_type": "code",
   "execution_count": 12,
   "metadata": {},
   "outputs": [],
   "source": [
    "# units: number of neurons in the layer\n",
    "# activation: activation function\n",
    "dense_layer = Dense(units=3, activation='relu')"
   ]
  },
  {
   "cell_type": "markdown",
   "metadata": {
    "slideshow": {
     "slide_type": "slide"
    }
   },
   "source": [
    "#### Flatten layer\n",
    "\n",
    "Flattens its input without affecting the batch size. Often used before a *Dense* layer.\n",
    "\n",
    "- Input shape: *(batch_size, input_dim1, input_dim2, ...)*\n",
    "- Output shape: *(batch_size, product of input dimensions)*"
   ]
  },
  {
   "cell_type": "code",
   "execution_count": 20,
   "metadata": {},
   "outputs": [
    {
     "name": "stdout",
     "output_type": "stream",
     "text": [
      "Output: (32, 576)\n"
     ]
    }
   ],
   "source": [
    "# Create a 4D tensor\n",
    "input = np.random.rand(32, 3, 3, 64).astype(np.float32)\n",
    "\n",
    "# Flatten it into a 2D tensor\n",
    "flatten_layer = Flatten()\n",
    "output = flatten_layer(input)\n",
    "# 576 = 3*3*64\n",
    "print(f\"Output: {output.shape}\")"
   ]
  },
  {
   "cell_type": "markdown",
   "metadata": {
    "slideshow": {
     "slide_type": "slide"
    }
   },
   "source": [
    "#### Reshape layer\n",
    "\n",
    "Reshapes its input into a specified shape.\n",
    "\n",
    "- Input shape: *(batch_size, input_dim1, input_dim2, ...)*\n",
    "- Output shape: *(batch_size, target_shape)*"
   ]
  },
  {
   "cell_type": "code",
   "execution_count": 21,
   "metadata": {},
   "outputs": [
    {
     "name": "stdout",
     "output_type": "stream",
     "text": [
      "Output: (32, 3, 3, 64)\n"
     ]
    }
   ],
   "source": [
    "# Create a 2D tensor\n",
    "input = np.random.rand(32, 3 * 3 * 64).astype(np.float32)\n",
    "\n",
    "# Reshape it into a 4D tensor\n",
    "reshape_layer = Reshape(target_shape=(3, 3, 64))\n",
    "output = reshape_layer(input)\n",
    "print(f\"Output: {output.shape}\")"
   ]
  },
  {
   "cell_type": "markdown",
   "metadata": {
    "slideshow": {
     "slide_type": "slide"
    }
   },
   "source": [
    "#### Dropout layer\n",
    "\n",
    "Applies Dropout to the input, randomly setting input units to 0 with a frequency of *rate* at each step during training time, which helps prevent overfitting.\n",
    "\n",
    "Output shape is not modified.\n",
    "\n",
    "- Input shape: *(batch_size, input_dim1, input_dim2, ...)*\n",
    "- Output shape: *(batch_size, input_dim1, input_dim2, ...)*"
   ]
  },
  {
   "cell_type": "code",
   "execution_count": null,
   "metadata": {},
   "outputs": [],
   "source": [
    "# rate: percentage of input units randomly set to 0 during training\n",
    "dropout_layer = Dropout(rate=.2)"
   ]
  },
  {
   "cell_type": "markdown",
   "metadata": {
    "slideshow": {
     "slide_type": "slide"
    }
   },
   "source": [
    "#### BatchNormalization layer\n",
    "\n",
    "Applies a transformation that maintains the mean output close to 0 and the output standard deviation close to 1, as proposed in [this paper](https://arxiv.org/abs/1502.03167) by Ioffe and Szegedy (2015).\n",
    "\n",
    "For an input $\\pmb{x}^{(i)}$, the layer returns: \n",
    "\n",
    "$$\\frac{\\pmb{x}^{(i)} - \\mu}{\\sqrt{\\sigma^2 + \\epsilon}} * \\gamma + \\beta$$\n",
    "\n",
    "- During training, the mean $\\mu$ and the standard deviation $\\sigma$ are computed on the current batch.\n",
    "- During inference, $\\mu$ and $\\sigma$ are estimated using a moving average on the batches seen during training.\n",
    "- $\\gamma$ is a learned output scaling factor (initialized as 1).\n",
    "- $\\beta$ is a learned output offset factor (initialized as 0).\n",
    "- $\\epsilon$ is a small constant.\n"
   ]
  },
  {
   "cell_type": "code",
   "execution_count": 50,
   "metadata": {
    "slideshow": {
     "slide_type": "slide"
    }
   },
   "outputs": [
    {
     "name": "stdout",
     "output_type": "stream",
     "text": [
      "Mean: 0.5045558214187622. Std: 0.32485315203666687\n",
      "Mean: -3.1789145538141383e-08. Std: 0.994976282119751\n"
     ]
    }
   ],
   "source": [
    "# Generate random data\n",
    "input = np.random.rand(5, 3).astype(np.float32)\n",
    "print(f'Mean: {np.mean(input)}. Std: {np.std(input)}')\n",
    "\n",
    "# Apply batch normalization\n",
    "bn_layer = BatchNormalization()\n",
    "output = bn_layer(input, training=True)\n",
    "print(f'Mean: {np.mean(output)}. Std: {np.std(output)}')"
   ]
  },
  {
   "cell_type": "code",
   "execution_count": 37,
   "metadata": {
    "slideshow": {
     "slide_type": "slide"
    }
   },
   "outputs": [
    {
     "name": "stdout",
     "output_type": "stream",
     "text": [
      "Model: \"sequential_11\"\n",
      "_________________________________________________________________\n",
      "Layer (type)                 Output Shape              Param #   \n",
      "=================================================================\n",
      "batch_normalization_12 (Batc (None, 3)                 12        \n",
      "=================================================================\n",
      "Total params: 12\n",
      "Trainable params: 6\n",
      "Non-trainable params: 6\n",
      "_________________________________________________________________\n"
     ]
    }
   ],
   "source": [
    "# Create a model with only a BN layer\n",
    "model = Sequential([BatchNormalization(input_shape=(3,))])\n",
    "# Each BN layer has 4 parameters per input\n",
    "# output scale and offset are learned through backprop, and thus trainable\n",
    "# mean and std deviation are estimated by a moving average during training\n",
    "model.summary()"
   ]
  },
  {
   "cell_type": "markdown",
   "metadata": {
    "slideshow": {
     "slide_type": "slide"
    }
   },
   "source": [
    "### Convolution layers"
   ]
  },
  {
   "cell_type": "markdown",
   "metadata": {},
   "source": [
    "#### Conv1D layer\n",
    "\n",
    "Creates a convolution kernel that is convolved with the layer input over a single spatial (or temporal) dimension to produce a tensor of outputs.\n",
    "\n",
    "- Input shape: *(batch size, time steps, features)*\n",
    "- Output shape: *(batch_size, new time steps, filters)*. *new time steps* is typically lower than input *time steps*."
   ]
  },
  {
   "cell_type": "code",
   "execution_count": 55,
   "metadata": {
    "slideshow": {
     "slide_type": "slide"
    }
   },
   "outputs": [
    {
     "name": "stdout",
     "output_type": "stream",
     "text": [
      "(4, 8, 32)\n"
     ]
    }
   ],
   "source": [
    "# The inputs are 128-length vectors with 10 timesteps, and the batch size is 4\n",
    "inputs = np.random.random([4, 10, 128]).astype(np.float32)\n",
    "\n",
    "# filters: number of output filters in the convolution\n",
    "# kernel_size: length of the 1D convolution window\n",
    "# activation: activation function\n",
    "# padding: padding of the input such that output has the same height/width dimension\n",
    "#   \"valid\": no padding, \"same\": padding enabled\n",
    "conv1d_layer = Conv1D(filters=32, kernel_size=3, activation=\"relu\", padding=\"valid\")\n",
    "output = conv1d_layer(inputs)\n",
    "# Input data has 10 timesteps. The 1D convolution with kernels of size 3 gives 8 new time steps\n",
    "print(output.shape)  # (4, 8, 32)"
   ]
  },
  {
   "cell_type": "markdown",
   "metadata": {
    "slideshow": {
     "slide_type": "slide"
    }
   },
   "source": [
    "#### Conv2D layer\n",
    "\n",
    "Creates a convolution kernel that is convolved with the layer input to produce a tensor of outputs, implementing spatial convolution over images.\n",
    "\n",
    "- Input shape: *(batch_size, rows, cols, channels)*\n",
    "- Output shape: *(batch_size, new_rows, new_cols, filters)*"
   ]
  },
  {
   "cell_type": "code",
   "execution_count": null,
   "metadata": {},
   "outputs": [],
   "source": [
    "# filters: number of output filters in the convolution\n",
    "# kernel_size: height and width of the 2D convolution window\n",
    "# activation: activation function\n",
    "# padding: padding of the input such that output has the same height/width dimension\n",
    "#   \"valid\": no padding, \"same\": padding enabled\n",
    "conv2d_layer = Conv2D(\n",
    "    filters=64, kernel_size=(3, 3), activation=\"relu\", padding=\"valid\"\n",
    ")"
   ]
  },
  {
   "cell_type": "markdown",
   "metadata": {
    "slideshow": {
     "slide_type": "slide"
    }
   },
   "source": [
    "#### Conv2DTranspose layer\n",
    "\n",
    "Applies a transposed convolution operation (a.k.a. Deconvolution), generally used for upsampling.\n",
    "\n",
    "- Input shape: *(batch_size, rows, cols, channels)*\n",
    "- Output shape: *(batch_size, new_rows, new_cols, filters)*\n",
    "\n",
    "[![Conv2DTranpose animation](images/conv2dtranspose.gif)](https://arxiv.org/abs/1603.07285v1)"
   ]
  },
  {
   "cell_type": "code",
   "execution_count": 87,
   "metadata": {
    "slideshow": {
     "slide_type": "slide"
    }
   },
   "outputs": [
    {
     "name": "stdout",
     "output_type": "stream",
     "text": [
      "Output: (32, 5, 5, 12)\n"
     ]
    }
   ],
   "source": [
    "# Create a 4D tensor\n",
    "input = np.random.rand(32, 2, 2, 1).astype(np.float32)\n",
    "\n",
    "# filters: number of output filters in the convolution\n",
    "# kernel_size: height and width of the 2D convolution window\n",
    "# strides: how much the input will be stretched\n",
    "# activation: activation function\n",
    "# padding: padding of the input such that output has the same height/width dimension\n",
    "#   \"valid\": no padding, \"same\": padding enabled\n",
    "conv2dt_layer = Conv2DTranspose(\n",
    "    filters=12, kernel_size=(3, 3), strides=2, padding=\"valid\"\n",
    ")\n",
    "output = conv2dt_layer(input)\n",
    "# \n",
    "print(f\"Output: {output.shape}\")"
   ]
  },
  {
   "cell_type": "markdown",
   "metadata": {
    "slideshow": {
     "slide_type": "slide"
    }
   },
   "source": [
    "#### MaxPooling2D layer\n",
    "\n",
    "Implements the Max pooling operation for 2D spatial data.\n",
    "\n",
    "- Input shape: *(batch_size, rows, cols, channels)*\n",
    "- Ouput shape: *(batch_size, pooled_rows, pooled_cols, channels)*"
   ]
  },
  {
   "cell_type": "code",
   "execution_count": null,
   "metadata": {},
   "outputs": [],
   "source": [
    "# pool_size: window size over which to take the maximum\n",
    "# padding: padding of the input such that output has the same height/width dimension\n",
    "#   \"valid\": no padding, \"same\": padding enabled\n",
    "maxpool2d_layer = MaxPooling2D(pool_size=(2, 2), padding=\"valid\")"
   ]
  },
  {
   "cell_type": "markdown",
   "metadata": {
    "slideshow": {
     "slide_type": "slide"
    }
   },
   "source": [
    "### Recurrent layers"
   ]
  },
  {
   "cell_type": "markdown",
   "metadata": {},
   "source": [
    "#### SimpleRNN layer\n",
    "\n",
    "Fully connected RNN where  the output from previous timestep is to be fed as input at next timestep. Can output the values for the last time step (a single vector per sample), or the whole output sequence (one vector per timestep per sample).\n",
    "\n",
    "- Input shape: *(batch size, time steps, features)*\n",
    "- Output shape: \n",
    "  - *(batch size, units)* if attribute `return_sequences` is `False`.\n",
    "  - *(batch size, time steps, units)* if attribute `return_sequences` is `True`."
   ]
  },
  {
   "cell_type": "code",
   "execution_count": null,
   "metadata": {
    "slideshow": {
     "slide_type": "slide"
    }
   },
   "outputs": [],
   "source": [
    "# Generate random data\n",
    "inputs = np.random.random([32, 10, 8]).astype(np.float32)\n",
    "\n",
    "# units: number of cells inside the layer\n",
    "simplernn_layer = SimpleRNN(units=4)\n",
    "output = simplernn_layer(inputs)\n",
    "print(output.shape)  # (32, 4)\n",
    "\n",
    "# return_sequences: whether to return the last output in the output sequence, or the full sequence.\n",
    "simplernn_layer = SimpleRNN(units=4, return_sequences=True)\n",
    "output = simplernn_layer(inputs)\n",
    "print(output.shape)  # (32, 10, 4)"
   ]
  },
  {
   "cell_type": "markdown",
   "metadata": {
    "slideshow": {
     "slide_type": "slide"
    }
   },
   "source": [
    "#### LSTM layer\n",
    "\n",
    "Long Short-Term Memory layer. API is similar to `SimpleRNN`.\n",
    "\n",
    "- Input shape: *(batch size, time steps, features)*\n",
    "- Output shape: \n",
    "  - *(batch size, units)* if attribute `return_sequences` is `False`.\n",
    "  - *(batch size, time steps, units)* if attribute `return_sequences` is `True`."
   ]
  },
  {
   "cell_type": "code",
   "execution_count": null,
   "metadata": {
    "slideshow": {
     "slide_type": "slide"
    }
   },
   "outputs": [],
   "source": [
    "# Generate random data\n",
    "inputs = np.random.random([32, 10, 8]).astype(np.float32)\n",
    "\n",
    "# units: number of cells inside the layer\n",
    "lstm_layer = LSTM(units=4)\n",
    "output = lstm_layer(inputs)\n",
    "print(output.shape)  # (32, 4)\n",
    "\n",
    "# return_sequences: whether to return the last output in the output sequence, or the full sequence.\n",
    "lstm_layer = LSTM(units=4, return_sequences=True)\n",
    "output = lstm_layer(inputs)\n",
    "print(output.shape)  # (32, 10, 4)"
   ]
  },
  {
   "cell_type": "markdown",
   "metadata": {
    "slideshow": {
     "slide_type": "slide"
    }
   },
   "source": [
    "#### GRU layer\n",
    "\n",
    "Gated Recurrent Unit layer. API is similar to `SimpleRNN`.\n",
    "\n",
    "- Input shape: *(batch size, time steps, features)*\n",
    "- Output shape: \n",
    "  - *(batch size, units)* if attribute `return_sequences` is `False`.\n",
    "  - *(batch size, time steps, units)* if attribute `return_sequences` is `True`."
   ]
  },
  {
   "cell_type": "code",
   "execution_count": null,
   "metadata": {
    "slideshow": {
     "slide_type": "slide"
    }
   },
   "outputs": [],
   "source": [
    "# Generate random data\n",
    "inputs = np.random.random([32, 10, 8]).astype(np.float32)\n",
    "\n",
    "# units: number of cells inside the layer\n",
    "gru_layer = GRU(units=4)\n",
    "output = gru_layer(inputs)\n",
    "print(output.shape)  # (32, 4)\n",
    "\n",
    "# return_sequences: whether to return the last output in the output sequence, or the full sequence.\n",
    "gru_layer = GRU(units=4, return_sequences=True)\n",
    "output = gru_layer(inputs)\n",
    "print(output.shape)  # (32, 10, 4)"
   ]
  },
  {
   "cell_type": "code",
   "execution_count": null,
   "metadata": {},
   "outputs": [],
   "source": []
  }
 ],
 "metadata": {
  "celltoolbar": "Diaporama",
  "kernelspec": {
   "display_name": "Python 3",
   "language": "python",
   "name": "python3"
  },
  "language_info": {
   "codemirror_mode": {
    "name": "ipython",
    "version": 3
   },
   "file_extension": ".py",
   "mimetype": "text/x-python",
   "name": "python",
   "nbconvert_exporter": "python",
   "pygments_lexer": "ipython3",
   "version": "3.7.5"
  }
 },
 "nbformat": 4,
 "nbformat_minor": 2
}
