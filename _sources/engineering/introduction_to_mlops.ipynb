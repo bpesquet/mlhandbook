{
 "cells": [
  {
   "cell_type": "markdown",
   "id": "efc19534",
   "metadata": {
    "slideshow": {
     "slide_type": "slide"
    }
   },
   "source": [
    "# Introduction to MLOps"
   ]
  },
  {
   "cell_type": "markdown",
   "id": "d2296fce",
   "metadata": {
    "slideshow": {
     "slide_type": "slide"
    }
   },
   "source": [
    "## Environment setup"
   ]
  },
  {
   "cell_type": "code",
   "execution_count": 2,
   "id": "901b8a21",
   "metadata": {},
   "outputs": [
    {
     "name": "stdout",
     "output_type": "stream",
     "text": [
      "Python version: 3.7.5\n"
     ]
    }
   ],
   "source": [
    "import platform\n",
    "\n",
    "print(f\"Python version: {platform.python_version()}\")\n",
    "assert platform.python_version_tuple() >= (\"3\", \"6\")\n",
    "\n",
    "from IPython.display import YouTubeVideo"
   ]
  },
  {
   "cell_type": "markdown",
   "id": "f2e6f679",
   "metadata": {
    "slideshow": {
     "slide_type": "slide"
    }
   },
   "source": [
    "## The Machine Learning workflow"
   ]
  },
  {
   "cell_type": "markdown",
   "id": "e736d237",
   "metadata": {
    "slideshow": {
     "slide_type": "slide"
    }
   },
   "source": [
    "[![ML workflow by RedHat](images/wiidii_ml_workflow.png)](https://www.redhat.com/files/summit/session-assets/2019/T957A0.pdf)"
   ]
  },
  {
   "cell_type": "markdown",
   "id": "4e1a6dac",
   "metadata": {
    "slideshow": {
     "slide_type": "slide"
    }
   },
   "source": [
    "### Codifying problems and metrics\n",
    "\n",
    "- Main questions:\n",
    "\n",
    "    - What is the business objective?\n",
    "    - How to measure success?\n",
    "    - What are the technical, temporal and organisational constraints?\n",
    "\n",
    "- Possible solutions: communicate with PO and stakeholders, knowing product and client needs."
   ]
  },
  {
   "cell_type": "markdown",
   "id": "0211bedc",
   "metadata": {
    "slideshow": {
     "slide_type": "slide"
    }
   },
   "source": [
    "### Data collection and cleaning\n",
    "\n",
    "- Main questions:\n",
    "\n",
    "    - Which data?\n",
    "    - Is it free/in adequate quantity/noisy/labelled/biased?\n",
    "    - Is it stable or evolving?\n",
    "    \n",
    "- Possible solutions: [public datasets](https://github.com/awesomedata/awesome-public-datasets), [DVC](https://dvc.org/), [Doccano](https://github.com/doccano/doccano), manual work."
   ]
  },
  {
   "cell_type": "markdown",
   "id": "002a995d",
   "metadata": {
    "slideshow": {
     "slide_type": "slide"
    }
   },
   "source": [
    "### Feature engineering\n",
    "\n",
    "- Main questions:\n",
    "\n",
    "    - What is the format of my input data?\n",
    "    - Whet features could potentially be useful for my models?\n",
    "    - How are they retrieved during training and production?\n",
    "\n",
    "- Possible solutions: data pipelines, feature stores, domain experts."
   ]
  },
  {
   "cell_type": "markdown",
   "id": "3697faa7",
   "metadata": {
    "slideshow": {
     "slide_type": "slide"
    }
   },
   "source": [
    "[![Feature store](images/feature_store.png)](https://www.tecton.ai/blog/what-is-a-feature-store/)"
   ]
  },
  {
   "cell_type": "markdown",
   "id": "2e91492c",
   "metadata": {
    "slideshow": {
     "slide_type": "slide"
    }
   },
   "source": [
    "### Model training and tuning\n",
    "\n",
    "- Main questions:\n",
    "\n",
    "    - Which model(s)?\n",
    "    - How to optimize its performance?\n",
    "    - How to track model versions?\n",
    "\n",
    "- Possible solutions: starting simple, hyperparameter tuning, [MLflow](https://mlflow.org)."
   ]
  },
  {
   "cell_type": "markdown",
   "id": "a03c693f",
   "metadata": {
    "slideshow": {
     "slide_type": "slide"
    }
   },
   "source": [
    "### Model validation\n",
    "\n",
    "- Main questions:\n",
    "\n",
    "    - Does the model address the business objective?\n",
    "    - How to measure its performance?\n",
    "    - Are there uptime constraints for my model?\n",
    "\n",
    "- Possible solutions: testing set, [continuous integration](https://en.wikipedia.org/wiki/Continuous_integration), [memoization](https://en.wikipedia.org/wiki/Memoization)."
   ]
  },
  {
   "cell_type": "markdown",
   "id": "4436d2fe",
   "metadata": {
    "slideshow": {
     "slide_type": "slide"
    }
   },
   "source": [
    "### Model deployment\n",
    "\n",
    "- Main questions:\n",
    "\n",
    "    - How to serve my model?\n",
    "    - How to handle model versioning?\n",
    "    - How to handle scaling?\n",
    "\n",
    "- Possible solutions: [FastAPI](https://fastapi.tiangolo.com/), [Docker](https://www.docker.com/), [Kubernetes](https://kubernetes.io/), [Cortex](https://www.cortex.dev/), [Databricks](https://databricks.com/), stress tests."
   ]
  },
  {
   "cell_type": "markdown",
   "id": "37d67d9d",
   "metadata": {
    "slideshow": {
     "slide_type": "slide"
    }
   },
   "source": [
    "### Monitoring, validation\n",
    "\n",
    "- Main questions:\n",
    "\n",
    "    - How to check model performance in production?\n",
    "    - How to prevent [model drifting](https://c3.ai/glossary/data-science/model-drift/)?\n",
    "    - How to explain model results?\n",
    "    \n",
    "- Possible solutions: [A/B testing](https://en.wikipedia.org/wiki/A/B_testing), [canary release](https://martinfowler.com/bliki/CanaryRelease.html), [explainability tools](https://github.com/EthicalML/awesome-production-machine-learning#explaining-black-box-models-and-datasets)."
   ]
  },
  {
   "cell_type": "markdown",
   "id": "6b718c4f",
   "metadata": {
    "slideshow": {
     "slide_type": "slide"
    }
   },
   "source": [
    "## From DevOps to MLOps"
   ]
  },
  {
   "cell_type": "markdown",
   "id": "8e6bcc02",
   "metadata": {
    "slideshow": {
     "slide_type": "slide"
    }
   },
   "source": [
    "### Motivation\n",
    "\n",
    "> \"The real challenge isn't building an ML model, the challenge is building an integrated ML system and to continuously operate it in production.\""
   ]
  },
  {
   "cell_type": "markdown",
   "id": "02b04f30",
   "metadata": {
    "slideshow": {
     "slide_type": "slide"
    }
   },
   "source": [
    "### Elements of a ML system\n",
    "\n",
    "[![Elements of a ML system](images/elements-of-ml.png)](https://cloud.google.com/architecture/mlops-continuous-delivery-and-automation-pipelines-in-machine-learning)"
   ]
  },
  {
   "cell_type": "markdown",
   "id": "f4f6b9c2",
   "metadata": {
    "slideshow": {
     "slide_type": "slide"
    }
   },
   "source": [
    "### DevOps\n",
    "\n",
    "DevOps is a set of practices that combines software development (*Dev*) and IT operations (*Ops*). Its goal is to shorten the product delivery loop while maintaining high quality.\n",
    "\n",
    "It implies constant collaboration between the development and infrastructure teams, as well as the use of several tools to automate and streamline the push to production and monitoring of a project.\n",
    "\n",
    "![DevOps illustrated](images/schema-devops.png)"
   ]
  },
  {
   "cell_type": "markdown",
   "id": "f0d0559a",
   "metadata": {
    "slideshow": {
     "slide_type": "slide"
    }
   },
   "source": [
    "### MLOps\n",
    "\n",
    "MLOps is the process of automating and productionalizing Machine Learning-based systems. MLOps integrates data- and model-specific tasks into the DevOps workflow cycle to obtain a unified release process. Like DevOps, it combines ML system development (*Dev*) and ML system operation (*Ops*).\n",
    "\n",
    "[![MLOps illustrated](images/schema-mlops.png)](https://www.phdata.io/blog/mlops-vs-devops-whats-the-difference/)"
   ]
  },
  {
   "cell_type": "markdown",
   "id": "e7e22ccb",
   "metadata": {
    "slideshow": {
     "slide_type": "slide"
    }
   },
   "source": [
    "[![The MLOps loop](images/mlops-loop-en.jpg)](https://ml-ops.org/content/mlops-principles)"
   ]
  },
  {
   "cell_type": "markdown",
   "id": "e8c47b03",
   "metadata": {
    "slideshow": {
     "slide_type": "slide"
    }
   },
   "source": [
    "### MLOps core principles\n",
    "\n",
    "Like DevOps, MLOps is built on the following [principles](https://ml-ops.org/content/mlops-principles):\n",
    "\n",
    "- Automation.\n",
    "- Continuous X (integration, delivery and training).\n",
    "- Versioning.\n",
    "- Testing."
   ]
  },
  {
   "cell_type": "markdown",
   "id": "b7ca0f2c",
   "metadata": {
    "slideshow": {
     "slide_type": "slide"
    }
   },
   "source": [
    "### Manual process\n",
    "\n",
    "[![Basic MLOps](images/mlops_basic.png)](https://cloud.google.com/architecture/mlops-continuous-delivery-and-automation-pipelines-in-machine-learning#mlops_level_2_cicd_pipeline_automation)"
   ]
  },
  {
   "cell_type": "markdown",
   "id": "65cb1439",
   "metadata": {
    "slideshow": {
     "slide_type": "slide"
    }
   },
   "source": [
    "### ML pipeline automation\n",
    "\n",
    "[![Advanced MLOps](images/mlops_training_pipeline.png)](https://cloud.google.com/architecture/mlops-continuous-delivery-and-automation-pipelines-in-machine-learning#mlops_level_1_ml_pipeline_automation)"
   ]
  },
  {
   "cell_type": "markdown",
   "id": "c2b3786f",
   "metadata": {
    "slideshow": {
     "slide_type": "slide"
    }
   },
   "source": [
    "### MLOps resources\n",
    "\n",
    "- [MLOps: Continuous delivery and automation pipelines in machine learning](https://cloud.google.com/architecture/mlops-continuous-delivery-and-automation-pipelines-in-machine-learning)\n",
    "- [Machine Learning Operations](https://ml-ops.org/)\n",
    "- [MLOps and DevOps: Why Data Makes It Different](https://www.oreilly.com/radar/mlops-and-devops-why-data-makes-it-different/)\n",
    "- [Practitioners guide to MLOps](https://services.google.com/fh/files/misc/practitioners_guide_to_mlops_whitepaper.pdf)\n",
    "- [Awesome MLOps](https://github.com/visenger/awesome-mlops)\n",
    "- [The 2021 Machine Learning, AI and Data Landscape](https://mattturck.com/data2021/)\n"
   ]
  },
  {
   "cell_type": "markdown",
   "id": "94908332",
   "metadata": {
    "slideshow": {
     "slide_type": "slide"
    }
   },
   "source": [
    "## Overview of some MLOps tools"
   ]
  },
  {
   "cell_type": "markdown",
   "id": "ea17d37c",
   "metadata": {
    "slideshow": {
     "slide_type": "slide"
    }
   },
   "source": [
    "### Flask & FastAPI\n",
    "\n",
    "[Flask](https://flask.palletsprojects.com) is a fast and lightweight web framework written in Python. It can be used to deploy Machine Learning models as APIs.\n",
    "\n",
    "[FastAPI](https://fastapi.tiangolo.com/) is another lightweight web framework for builiding APIs. it has become the standard for deploying Python ML models on the web."
   ]
  },
  {
   "cell_type": "markdown",
   "id": "958b3352",
   "metadata": {
    "slideshow": {
     "slide_type": "slide"
    }
   },
   "source": [
    "### DVC\n",
    "\n",
    "[DVC](https://dvc.org/) (\"Data Version Control\") is an open source project that extends [Git](https://git-scm.com/) version control to data and model files. DVC uses a remote repository (including supports all major cloud providers) to store all the data and models for a project. In the actual code repository, a pointer to this remote location is stored to access the actual artifacts."
   ]
  },
  {
   "cell_type": "code",
   "execution_count": 5,
   "id": "8b77d159",
   "metadata": {},
   "outputs": [
    {
     "data": {
      "image/jpeg": "[encoded data removed]",
      "text/html": [
       "\n",
       "        <iframe\n",
       "            width=\"400\"\n",
       "            height=\"300\"\n",
       "            src=\"https://www.youtube.com/embed/UbL7VUpv1Bs\"\n",
       "            frameborder=\"0\"\n",
       "            allowfullscreen\n",
       "        ></iframe>\n",
       "        "
      ],
      "text/plain": [
       "<IPython.lib.display.YouTubeVideo at 0x10fc4c890>"
      ]
     },
     "execution_count": 5,
     "metadata": {},
     "output_type": "execute_result"
    }
   ],
   "source": [
    "YouTubeVideo(\"UbL7VUpv1Bs\")"
   ]
  },
  {
   "cell_type": "markdown",
   "id": "7f2ddb4a",
   "metadata": {
    "slideshow": {
     "slide_type": "slide"
    }
   },
   "source": [
    "### MLflow\n",
    "\n",
    "[MLflow](https://mlflow.org) is an open source platform for managing the end-to-end machine learning lifecycle. It can:\n",
    "\n",
    "- track ML experiments (training runs) to record and compare parameters and results;\n",
    "- package ML code in a reusable, reproducible form;\n",
    "- manage and deploy models from a variety of ML libraries to a variety of model serving and inference platforms.\n",
    "\n",
    "MLflow can be used with any ML library, in any programming language. Python, R and Java are supported out-of-the-box. It is included in several ML cloud platforms, like [Databricks](https://databricks.com/product/managed-mlflow)."
   ]
  },
  {
   "cell_type": "markdown",
   "id": "8b40720f",
   "metadata": {
    "slideshow": {
     "slide_type": "slide"
    }
   },
   "source": [
    "[![MLflow components](images/mlflow-components.png)](https://www.datanami.com/2018/06/05/databricks-launches-mlflow-to-simplify-machine-learning-lifecycle/)"
   ]
  },
  {
   "cell_type": "code",
   "execution_count": null,
   "id": "487acfd0",
   "metadata": {},
   "outputs": [],
   "source": []
  }
 ],
 "metadata": {
  "celltoolbar": "Diaporama",
  "kernelspec": {
   "display_name": "Python 3",
   "language": "python",
   "name": "python3"
  },
  "language_info": {
   "codemirror_mode": {
    "name": "ipython",
    "version": 3
   },
   "file_extension": ".py",
   "mimetype": "text/x-python",
   "name": "python",
   "nbconvert_exporter": "python",
   "pygments_lexer": "ipython3",
   "version": "3.7.5"
  }
 },
 "nbformat": 4,
 "nbformat_minor": 5
}
