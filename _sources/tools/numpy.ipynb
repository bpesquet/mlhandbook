{
 "cells": [
  {
   "cell_type": "markdown",
   "metadata": {
    "slideshow": {
     "slide_type": "slide"
    }
   },
   "source": [
    "# NumPy"
   ]
  },
  {
   "cell_type": "markdown",
   "metadata": {
    "slideshow": {
     "slide_type": "slide"
    }
   },
   "source": [
    "## Environment setup"
   ]
  },
  {
   "cell_type": "code",
   "execution_count": 21,
   "metadata": {
    "slideshow": {
     "slide_type": "-"
    }
   },
   "outputs": [],
   "source": [
    "import platform\n",
    "\n",
    "print(f\"Python version: {platform.python_version()}\")\n",
    "assert platform.python_version_tuple() >= (\"3\", \"6\")\n",
    "\n",
    "import numpy as np\n",
    "\n",
    "print(f\"NumPy version: {np.__version__}\")"
   ]
  },
  {
   "cell_type": "markdown",
   "metadata": {
    "slideshow": {
     "slide_type": "slide"
    }
   },
   "source": [
    "## Creating tensors\n",
    "\n",
    "NumPy provides several useful functions for initializing tensors with particular values."
   ]
  },
  {
   "cell_type": "markdown",
   "metadata": {
    "slideshow": {
     "slide_type": "slide"
    }
   },
   "source": [
    "### Filling a tensor with zeros"
   ]
  },
  {
   "cell_type": "code",
   "execution_count": 40,
   "metadata": {
    "slideshow": {
     "slide_type": "-"
    }
   },
   "outputs": [
    {
     "name": "stdout",
     "output_type": "stream",
     "text": [
      "[0. 0. 0.]\n",
      "Dimensions: 1\n",
      "Shape: (3,)\n"
     ]
    }
   ],
   "source": [
    "x = np.zeros(3)\n",
    "print(x)\n",
    "print(f'Dimensions: {x.ndim}')\n",
    "print(f'Shape: {x.shape}')"
   ]
  },
  {
   "cell_type": "code",
   "execution_count": 41,
   "metadata": {
    "slideshow": {
     "slide_type": "-"
    }
   },
   "outputs": [
    {
     "name": "stdout",
     "output_type": "stream",
     "text": [
      "[[0. 0. 0. 0.]\n",
      " [0. 0. 0. 0.]\n",
      " [0. 0. 0. 0.]]\n",
      "Dimensions: 2\n",
      "Shape: (3, 4)\n"
     ]
    }
   ],
   "source": [
    "x = np.zeros((3,4))\n",
    "print(x)\n",
    "print(f'Dimensions: {x.ndim}')\n",
    "print(f'Shape: {x.shape}')"
   ]
  },
  {
   "cell_type": "markdown",
   "metadata": {
    "slideshow": {
     "slide_type": "slide"
    }
   },
   "source": [
    "### Filling a tensor with random numbers\n",
    "\n",
    "Values are sampled from a \"normal\" (Gaussian) distribution"
   ]
  },
  {
   "cell_type": "code",
   "execution_count": 42,
   "metadata": {
    "slideshow": {
     "slide_type": "-"
    }
   },
   "outputs": [
    {
     "name": "stdout",
     "output_type": "stream",
     "text": [
      "[[ 0.50961507 -0.66325773]\n",
      " [-0.26615276 -0.61404259]\n",
      " [ 0.85148899 -1.00384867]\n",
      " [ 0.52699103  1.76971159]\n",
      " [-1.03823767 -0.36072364]]\n",
      "Dimensions: 2\n",
      "Shape: (5, 2)\n"
     ]
    }
   ],
   "source": [
    "x = np.random.randn(5,2)\n",
    "print(x)\n",
    "print(f'Dimensions: {x.ndim}')\n",
    "print(f'Shape: {x.shape}')"
   ]
  },
  {
   "cell_type": "markdown",
   "metadata": {
    "slideshow": {
     "slide_type": "slide"
    }
   },
   "source": [
    "## Tensor shape management"
   ]
  },
  {
   "cell_type": "code",
   "execution_count": 26,
   "metadata": {},
   "outputs": [
    {
     "name": "stdout",
     "output_type": "stream",
     "text": [
      "[12  3  6]\n",
      "Dimensions: 1\n",
      "Shape: (3,)\n"
     ]
    }
   ],
   "source": [
    "x = np.array([12, 3, 6]) # x is a 3 dimensions vector (1D tensor)\n",
    "print(x)\n",
    "print(f'Dimensions: {x.ndim}')\n",
    "print(f'Shape: {x.shape}')"
   ]
  },
  {
   "cell_type": "markdown",
   "metadata": {
    "slideshow": {
     "slide_type": "slide"
    }
   },
   "source": [
    "### Tensors with single-dimensional entries\n"
   ]
  },
  {
   "cell_type": "code",
   "execution_count": 27,
   "metadata": {
    "slideshow": {
     "slide_type": "-"
    }
   },
   "outputs": [
    {
     "name": "stdout",
     "output_type": "stream",
     "text": [
      "[[12  3  6 14]]\n",
      "Dimensions: 2\n",
      "Shape: (1, 4)\n"
     ]
    }
   ],
   "source": [
    "x = np.array([[12, 3, 6, 14]]) # x is a one row matrix (2D tensor)\n",
    "print(x)\n",
    "print(f'Dimensions: {x.ndim}')\n",
    "print(f'Shape: {x.shape}')"
   ]
  },
  {
   "cell_type": "code",
   "execution_count": 28,
   "metadata": {
    "slideshow": {
     "slide_type": "-"
    }
   },
   "outputs": [
    {
     "name": "stdout",
     "output_type": "stream",
     "text": [
      "[[12]\n",
      " [ 3]\n",
      " [ 6]\n",
      " [14]]\n",
      "Dimensions: 2\n",
      "Shape: (4, 1)\n"
     ]
    }
   ],
   "source": [
    "x = np.array([[12], [3], [6], [14]]) # x is a one column matrix (2D tensor)\n",
    "print(x)\n",
    "print(f'Dimensions: {x.ndim}')\n",
    "print(f'Shape: {x.shape}')"
   ]
  },
  {
   "cell_type": "markdown",
   "metadata": {
    "slideshow": {
     "slide_type": "slide"
    }
   },
   "source": [
    "### Removing single-dimensional entries from a tensor"
   ]
  },
  {
   "cell_type": "code",
   "execution_count": 29,
   "metadata": {
    "slideshow": {
     "slide_type": "-"
    }
   },
   "outputs": [
    {
     "name": "stdout",
     "output_type": "stream",
     "text": [
      "[12  3  6 14]\n",
      "Dimensions: 1\n",
      "Shape: (4,)\n"
     ]
    }
   ],
   "source": [
    "x = np.array([[12, 3, 6, 14]])\n",
    "x = np.squeeze(x) # x is now a vector (1D tensor)\n",
    "print(x)\n",
    "print(f'Dimensions: {x.ndim}')\n",
    "print(f'Shape: {x.shape}')"
   ]
  },
  {
   "cell_type": "code",
   "execution_count": 30,
   "metadata": {
    "slideshow": {
     "slide_type": "-"
    }
   },
   "outputs": [
    {
     "name": "stdout",
     "output_type": "stream",
     "text": [
      "[12  3  6 14]\n",
      "Dimensions: 1\n",
      "Shape: (4,)\n"
     ]
    }
   ],
   "source": [
    "x = np.array([[12], [3], [6], [14]])\n",
    "x = np.squeeze(x) # x is now a vector (1D tensor)\n",
    "print(x)\n",
    "print(f'Dimensions: {x.ndim}')\n",
    "print(f'Shape: {x.shape}')"
   ]
  },
  {
   "cell_type": "markdown",
   "metadata": {
    "slideshow": {
     "slide_type": "slide"
    }
   },
   "source": [
    "### Reshaping a tensor"
   ]
  },
  {
   "cell_type": "code",
   "execution_count": 33,
   "metadata": {
    "slideshow": {
     "slide_type": "slide"
    }
   },
   "outputs": [
    {
     "name": "stdout",
     "output_type": "stream",
     "text": [
      "Original dimensions: 3\n",
      "Original shape: (3, 2, 2)\n",
      "[[ 5  6  7  8]\n",
      " [ 9 10 11 12]\n",
      " [13 14 15 16]]\n",
      "Dimensions: 2\n",
      "Shape: (3, 4)\n"
     ]
    }
   ],
   "source": [
    "# Reshape a 3D tensor into a matrix\n",
    "x = np.array([[[5, 6],\n",
    "               [7, 8]],\n",
    "              [[9, 10],\n",
    "               [11, 12]],\n",
    "              [[13, 14],\n",
    "               [15, 16]]])\n",
    "print (f'Original dimensions: {x.ndim}')\n",
    "print (f'Original shape: {x.shape}')\n",
    "x = x.reshape(3, 2*2)\n",
    "print(x)\n",
    "print(f'Dimensions: {x.ndim}')\n",
    "print(f'Shape: {x.shape}')"
   ]
  },
  {
   "cell_type": "markdown",
   "metadata": {
    "slideshow": {
     "slide_type": "slide"
    }
   },
   "source": [
    "### Adding a dimension to a tensor"
   ]
  },
  {
   "cell_type": "code",
   "execution_count": 34,
   "metadata": {},
   "outputs": [
    {
     "name": "stdout",
     "output_type": "stream",
     "text": [
      "Original dimensions: 1\n",
      "Original shape: (3,)\n",
      "[[1 2 3]]\n",
      "Dimensions: 2\n",
      "Shape: (1, 3)\n"
     ]
    }
   ],
   "source": [
    "# Add a dimension to a vector, turning it into a row matrix\n",
    "x = np.array([1, 2, 3])\n",
    "print (f'Original dimensions: {x.ndim}')\n",
    "print (f'Original shape: {x.shape}')\n",
    "x = x[np.newaxis, :]\n",
    "print(x)\n",
    "print(f'Dimensions: {x.ndim}')\n",
    "print(f'Shape: {x.shape}')"
   ]
  },
  {
   "cell_type": "code",
   "execution_count": 35,
   "metadata": {
    "slideshow": {
     "slide_type": "slide"
    }
   },
   "outputs": [
    {
     "name": "stdout",
     "output_type": "stream",
     "text": [
      "Original dimensions: 1\n",
      "Original shape: (3,)\n",
      "[[1]\n",
      " [2]\n",
      " [3]]\n",
      "Dimensions: 2\n",
      "Shape: (3, 1)\n"
     ]
    }
   ],
   "source": [
    "# Add a dimension to a vector, turning it into a column matrix\n",
    "x = np.array([1, 2, 3])\n",
    "print (f'Original dimensions: {x.ndim}')\n",
    "print (f'Original shape: {x.shape}')\n",
    "x = x[:, np.newaxis]\n",
    "print(x)\n",
    "print(f'Dimensions: {x.ndim}')\n",
    "print(f'Shape: {x.shape}')"
   ]
  },
  {
   "cell_type": "markdown",
   "metadata": {
    "slideshow": {
     "slide_type": "slide"
    }
   },
   "source": [
    "### Transposing a tensor"
   ]
  },
  {
   "cell_type": "code",
   "execution_count": 36,
   "metadata": {
    "slideshow": {
     "slide_type": "-"
    }
   },
   "outputs": [
    {
     "name": "stdout",
     "output_type": "stream",
     "text": [
      "[12  3  6 14]\n",
      "Dimensions: 1\n",
      "Shape: (4,)\n"
     ]
    }
   ],
   "source": [
    "# Transpose a vector (no effect)\n",
    "x = np.array([12, 3, 6, 14])\n",
    "x = x.T # alternative syntax: x = np.transpose(x)\n",
    "print(x)\n",
    "print(f'Dimensions: {x.ndim}')\n",
    "print(f'Shape: {x.shape}')"
   ]
  },
  {
   "cell_type": "code",
   "execution_count": 37,
   "metadata": {
    "slideshow": {
     "slide_type": "slide"
    }
   },
   "outputs": [
    {
     "name": "stdout",
     "output_type": "stream",
     "text": [
      "[[ 5  6  7]\n",
      " [78 79 80]\n",
      " [ 2  3  4]\n",
      " [34 35 36]]\n",
      "Dimensions: 2\n",
      "Shape: (4, 3)\n"
     ]
    }
   ],
   "source": [
    "# Transpose a matrix\n",
    "x = np.array([[5, 78, 2, 34],\n",
    "              [6, 79, 3, 35],\n",
    "              [7, 80, 4, 36]])\n",
    "x = x.T\n",
    "print(x)\n",
    "print(f'Dimensions: {x.ndim}')\n",
    "print(f'Shape: {x.shape}')"
   ]
  },
  {
   "cell_type": "markdown",
   "metadata": {
    "slideshow": {
     "slide_type": "slide"
    }
   },
   "source": [
    "## Tensor indexing and slicing"
   ]
  },
  {
   "cell_type": "code",
   "execution_count": 38,
   "metadata": {
    "slideshow": {
     "slide_type": "-"
    }
   },
   "outputs": [
    {
     "name": "stdout",
     "output_type": "stream",
     "text": [
      "[1 2 3]\n",
      "[4 5 6 7]\n"
     ]
    }
   ],
   "source": [
    "# Slice a vector\n",
    "x = np.array([1, 2, 3, 4, 5, 6, 7])\n",
    "print(x[:3])\n",
    "print(x[3:])"
   ]
  },
  {
   "cell_type": "code",
   "execution_count": 39,
   "metadata": {
    "slideshow": {
     "slide_type": "slide"
    }
   },
   "outputs": [
    {
     "name": "stdout",
     "output_type": "stream",
     "text": [
      "[[ 5 78  2 34]\n",
      " [ 6 79  3 35]]\n",
      "[[ 7 80  4 36]]\n",
      "[[ 5 78]\n",
      " [ 6 79]\n",
      " [ 7 80]]\n",
      "[[ 2 34]\n",
      " [ 3 35]\n",
      " [ 4 36]]\n"
     ]
    }
   ],
   "source": [
    "# Slice a matrix\n",
    "x = np.array([[5, 78, 2, 34],\n",
    "              [6, 79, 3, 35],\n",
    "              [7, 80, 4, 36]])\n",
    "print(x[:2, :])\n",
    "print(x[2:, :])\n",
    "print(x[:, :2])\n",
    "print(x[:, 2:])"
   ]
  },
  {
   "cell_type": "markdown",
   "metadata": {
    "slideshow": {
     "slide_type": "slide"
    }
   },
   "source": [
    "## Operations between tensors\n",
    "\n",
    "**Element-wise** operations are applied independently to each entry in the tensors being considered. \n",
    "\n",
    "Other operations, like dot product, combine entries in the input tensors to produce a differently shaped result.\n"
   ]
  },
  {
   "cell_type": "markdown",
   "metadata": {
    "slideshow": {
     "slide_type": "slide"
    }
   },
   "source": [
    "### Element-wise addition"
   ]
  },
  {
   "cell_type": "code",
   "execution_count": 43,
   "metadata": {
    "slideshow": {
     "slide_type": "-"
    }
   },
   "outputs": [
    {
     "name": "stdout",
     "output_type": "stream",
     "text": [
      "[3 4 8]\n",
      "Dimensions: 1\n",
      "Shape: (3,)\n"
     ]
    }
   ],
   "source": [
    "# Element-wise addition between two vectors\n",
    "x = np.array([2, 5, 4])\n",
    "y = np.array([1, -1, 4])\n",
    "z = x + y\n",
    "print(z)\n",
    "print(f'Dimensions: {x.ndim}')\n",
    "print(f'Shape: {x.shape}')"
   ]
  },
  {
   "cell_type": "markdown",
   "metadata": {
    "slideshow": {
     "slide_type": "slide"
    }
   },
   "source": [
    "### Element-wise product"
   ]
  },
  {
   "cell_type": "code",
   "execution_count": 44,
   "metadata": {
    "slideshow": {
     "slide_type": "-"
    }
   },
   "outputs": [
    {
     "name": "stdout",
     "output_type": "stream",
     "text": [
      "[[ 3  0  6]\n",
      " [ 3  8 -2]]\n",
      "Dimensions: 2\n",
      "Shape: (2, 3)\n"
     ]
    }
   ],
   "source": [
    "# Element-wise product between two matrices (shapes must be identical)\n",
    "x = np.array([[1, 2, 3], \n",
    "              [3, 2, 1]])\n",
    "y = np.array([[3, 0, 2], \n",
    "              [1, 4, -2]])\n",
    "z = x * y\n",
    "print(z)\n",
    "print(f'Dimensions: {x.ndim}')\n",
    "print(f'Shape: {x.shape}')"
   ]
  },
  {
   "cell_type": "markdown",
   "metadata": {
    "slideshow": {
     "slide_type": "slide"
    }
   },
   "source": [
    "### Dot product"
   ]
  },
  {
   "cell_type": "code",
   "execution_count": 45,
   "metadata": {
    "slideshow": {
     "slide_type": "-"
    }
   },
   "outputs": [
    {
     "name": "stdout",
     "output_type": "stream",
     "text": [
      "[[19 -4]\n",
      " [17  0]]\n",
      "Dimensions: 2\n",
      "Shape: (2, 3)\n"
     ]
    }
   ],
   "source": [
    "# Dot product between two matrices (shapes must be compatible)\n",
    "x = np.array([[1, 2, 3], \n",
    "              [3, 2, 1]]) # x has shape (2, 3)\n",
    "y = np.array([[3, 0], \n",
    "              [2, 1], \n",
    "              [4, -2]]) # y has shape (3, 2)\n",
    "z = np.dot(x, y) # alternative syntax: z = x.dot(y)\n",
    "print(z)\n",
    "print(f'Dimensions: {x.ndim}')\n",
    "print(f'Shape: {x.shape}')"
   ]
  },
  {
   "cell_type": "markdown",
   "metadata": {
    "slideshow": {
     "slide_type": "slide"
    }
   },
   "source": [
    "## Broadcasting\n",
    "\n",
    "Broadcasting is a powerful NumPy functionality.\n",
    "\n",
    "If there is no ambiguity, the smaller tensor can be \"broadcasted\" implicitly to match the larger tensor's shape before an operation is applied to them."
   ]
  },
  {
   "cell_type": "markdown",
   "metadata": {
    "slideshow": {
     "slide_type": "slide"
    }
   },
   "source": [
    "### Broadcasting between a vector and a scalar"
   ]
  },
  {
   "cell_type": "code",
   "execution_count": 46,
   "metadata": {
    "slideshow": {
     "slide_type": "-"
    }
   },
   "outputs": [
    {
     "name": "stdout",
     "output_type": "stream",
     "text": [
      "[15  6  9 17]\n",
      "Dimensions: 1\n",
      "Shape: (4,)\n"
     ]
    }
   ],
   "source": [
    "x = np.array([12, 3, 6, 14])\n",
    "x = x + 3\n",
    "print(x)\n",
    "print(f'Dimensions: {x.ndim}')\n",
    "print(f'Shape: {x.shape}')"
   ]
  },
  {
   "cell_type": "markdown",
   "metadata": {
    "slideshow": {
     "slide_type": "slide"
    }
   },
   "source": [
    "### Broadcasting between a matrix and a scalar"
   ]
  },
  {
   "cell_type": "code",
   "execution_count": 47,
   "metadata": {
    "slideshow": {
     "slide_type": "-"
    }
   },
   "outputs": [
    {
     "name": "stdout",
     "output_type": "stream",
     "text": [
      "[[-1  0  1]\n",
      " [-3  4  2]]\n",
      "Dimensions: 2\n",
      "Shape: (2, 3)\n"
     ]
    }
   ],
   "source": [
    "x = np.array([[0, 1, 2], \n",
    "              [-2, 5, 3]])\n",
    "x = x - 1\n",
    "print(x)\n",
    "print(f'Dimensions: {x.ndim}')\n",
    "print(f'Shape: {x.shape}')"
   ]
  },
  {
   "cell_type": "markdown",
   "metadata": {
    "slideshow": {
     "slide_type": "slide"
    }
   },
   "source": [
    "### Broadcasting between a matrix and a vector"
   ]
  },
  {
   "cell_type": "code",
   "execution_count": 48,
   "metadata": {
    "slideshow": {
     "slide_type": "-"
    }
   },
   "outputs": [
    {
     "name": "stdout",
     "output_type": "stream",
     "text": [
      "[[ 1  3  5]\n",
      " [-1  7  6]]\n",
      "Dimensions: 2\n",
      "Shape: (2, 3)\n"
     ]
    }
   ],
   "source": [
    "x = np.array([[0, 1, 2], \n",
    "              [-2, 5, 3]])\n",
    "y = np.array([1, 2, 3])\n",
    "z = x + y\n",
    "print(z)\n",
    "print(f'Dimensions: {x.ndim}')\n",
    "print(f'Shape: {x.shape}')"
   ]
  },
  {
   "cell_type": "markdown",
   "metadata": {
    "slideshow": {
     "slide_type": "slide"
    }
   },
   "source": [
    "## Summing tensors"
   ]
  },
  {
   "cell_type": "markdown",
   "metadata": {
    "slideshow": {
     "slide_type": "slide"
    }
   },
   "source": [
    "### Summing on all axes"
   ]
  },
  {
   "cell_type": "code",
   "execution_count": 49,
   "metadata": {
    "slideshow": {
     "slide_type": "-"
    }
   },
   "outputs": [
    {
     "name": "stdout",
     "output_type": "stream",
     "text": [
      "9\n",
      "Dimensions: 0\n",
      "Shape: ()\n"
     ]
    }
   ],
   "source": [
    "x = np.array([[0, 1, 2], \n",
    "              [-2, 5, 3]])\n",
    "x = np.sum(x) # x is now a scalar (0D tensor)\n",
    "print(x)\n",
    "print(f'Dimensions: {x.ndim}')\n",
    "print(f'Shape: {x.shape}')"
   ]
  },
  {
   "cell_type": "markdown",
   "metadata": {
    "slideshow": {
     "slide_type": "slide"
    }
   },
   "source": [
    "### Summing on a specific axis"
   ]
  },
  {
   "cell_type": "code",
   "execution_count": 50,
   "metadata": {
    "slideshow": {
     "slide_type": "-"
    }
   },
   "outputs": [
    {
     "name": "stdout",
     "output_type": "stream",
     "text": [
      "[-2  6  5]\n",
      "Dimensions: 1\n",
      "Shape: (3,)\n"
     ]
    }
   ],
   "source": [
    "# Sums a matrix on its first axis (rows)\n",
    "x = np.array([[0, 1, 2], \n",
    "              [-2, 5, 3]])\n",
    "x = np.sum(x, axis=0) # x is now a vector (1D tensor)\n",
    "print(x)\n",
    "print(f'Dimensions: {x.ndim}')\n",
    "print(f'Shape: {x.shape}')"
   ]
  },
  {
   "cell_type": "code",
   "execution_count": 51,
   "metadata": {
    "slideshow": {
     "slide_type": "-"
    }
   },
   "outputs": [
    {
     "name": "stdout",
     "output_type": "stream",
     "text": [
      "[3 6]\n",
      "Dimensions: 1\n",
      "Shape: (2,)\n"
     ]
    }
   ],
   "source": [
    "# Sums a matrix on its second axis (columns)\n",
    "x = np.array([[0, 1, 2], \n",
    "              [-2, 5, 3]])\n",
    "x = np.sum(x, axis=1) # x is now a vector (1D tensor)\n",
    "print(x)\n",
    "print(f'Dimensions: {x.ndim}')\n",
    "print(f'Shape: {x.shape}')"
   ]
  },
  {
   "cell_type": "markdown",
   "metadata": {
    "slideshow": {
     "slide_type": "slide"
    }
   },
   "source": [
    "### Keeping tensor dimensions while summing"
   ]
  },
  {
   "cell_type": "code",
   "execution_count": 52,
   "metadata": {
    "slideshow": {
     "slide_type": "-"
    }
   },
   "outputs": [
    {
     "name": "stdout",
     "output_type": "stream",
     "text": [
      "[[-2  6  5]]\n",
      "Dimensions: 2\n",
      "Shape: (1, 3)\n"
     ]
    }
   ],
   "source": [
    "# Sums a matrix on its second axis (columns), keeping the same dimensions\n",
    "x = np.array([[0, 1, 2], \n",
    "              [-2, 5, 3]])\n",
    "x = np.sum(x, axis=0, keepdims=True) # x is still a matrix (2D tensor)\n",
    "print(x)\n",
    "print(f'Dimensions: {x.ndim}')\n",
    "print(f'Shape: {x.shape}')"
   ]
  },
  {
   "cell_type": "markdown",
   "metadata": {},
   "source": [
    "## TODO\n",
    "\n",
    "- Explain fancy indexing (https://jakevdp.github.io/PythonDataScienceHandbook/02.07-fancy-indexing.html)"
   ]
  },
  {
   "cell_type": "code",
   "execution_count": null,
   "metadata": {},
   "outputs": [],
   "source": []
  }
 ],
 "metadata": {
  "celltoolbar": "Diaporama",
  "kernelspec": {
   "display_name": "Python 3",
   "language": "python",
   "name": "python3"
  },
  "language_info": {
   "codemirror_mode": {
    "name": "ipython",
    "version": 3
   },
   "file_extension": ".py",
   "mimetype": "text/x-python",
   "name": "python",
   "nbconvert_exporter": "python",
   "pygments_lexer": "ipython3",
   "version": "3.7.5"
  },
  "livereveal": {
   "scroll": true,
   "theme": "white"
  }
 },
 "nbformat": 4,
 "nbformat_minor": 2
}
