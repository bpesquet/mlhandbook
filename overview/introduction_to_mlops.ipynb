{
 "cells": [
  {
   "cell_type": "markdown",
   "id": "ea1eb8cd",
   "metadata": {
    "slideshow": {
     "slide_type": "slide"
    }
   },
   "source": [
    "# Introduction to MLOps"
   ]
  },
  {
   "cell_type": "markdown",
   "id": "35b5bd53",
   "metadata": {
    "slideshow": {
     "slide_type": "slide"
    }
   },
   "source": [
    "## The Machine Learning workflow"
   ]
  },
  {
   "cell_type": "markdown",
   "id": "63159e18",
   "metadata": {
    "slideshow": {
     "slide_type": "slide"
    }
   },
   "source": [
    "[![ML workflow by RedHat](images/wiidii_ml_workflow.png)](https://www.redhat.com/files/summit/session-assets/2019/T957A0.pdf)"
   ]
  },
  {
   "cell_type": "markdown",
   "id": "1b902131",
   "metadata": {
    "slideshow": {
     "slide_type": "slide"
    }
   },
   "source": [
    "### Codifying problems and metrics\n",
    "\n",
    "- Main questions:\n",
    "\n",
    "    - What is the business objective?\n",
    "    - How to measure success?\n",
    "    - What are the technical, temoral and organisational constraints?\n",
    "\n",
    "- Possible solutions: communicate with PO and stakeholders, knowing product and client needs."
   ]
  },
  {
   "cell_type": "markdown",
   "id": "4db99cfe",
   "metadata": {
    "slideshow": {
     "slide_type": "slide"
    }
   },
   "source": [
    "### Data collection and cleaning\n",
    "\n",
    "- Main questions:\n",
    "\n",
    "    - Which data?\n",
    "    - Is it free/in adequate quantity/noisy/labelled/biased?\n",
    "    - Is it stable or evolving?\n",
    "    \n",
    "- Possible solutions: [public datasets](https://github.com/awesomedata/awesome-public-datasets), [DVC](https://dvc.org/), [Doccano](https://github.com/doccano/doccano), manual work."
   ]
  },
  {
   "cell_type": "markdown",
   "id": "44f9e323",
   "metadata": {
    "slideshow": {
     "slide_type": "slide"
    }
   },
   "source": [
    "### Feature engineering\n",
    "\n",
    "- Main questions:\n",
    "\n",
    "    - What is the format of my input data?\n",
    "    - Whet features could potentially be useful for my models?\n",
    "\n",
    "- Possible solutions: data pipelines, feature stores, domain experts."
   ]
  },
  {
   "cell_type": "markdown",
   "id": "0c2aafdf",
   "metadata": {
    "slideshow": {
     "slide_type": "slide"
    }
   },
   "source": [
    "[![Feature store](images/feature_store.png)](https://www.tecton.ai/blog/what-is-a-feature-store/)"
   ]
  },
  {
   "cell_type": "markdown",
   "id": "391be121",
   "metadata": {
    "slideshow": {
     "slide_type": "slide"
    }
   },
   "source": [
    "### Model training and tuning\n",
    "\n",
    "- Main questions:\n",
    "\n",
    "    - Which model(s)?\n",
    "    - How to optimize its performance?\n",
    "    - How to track model versions?\n",
    "\n",
    "- Possible solutions: starting simple, hyperparameter tuning, [MLflow](https://mlflow.org)."
   ]
  },
  {
   "cell_type": "markdown",
   "id": "b03510f8",
   "metadata": {
    "slideshow": {
     "slide_type": "slide"
    }
   },
   "source": [
    "### Model validation\n",
    "\n",
    "- Main questions:\n",
    "\n",
    "    - Does the model address the business objective?\n",
    "    - How to measure its performance?\n",
    "    - Are there uptime constraints for my model?\n",
    "\n",
    "- Possible solutions: testing set, [continuous integration](https://en.wikipedia.org/wiki/Continuous_integration), [memoization](https://en.wikipedia.org/wiki/Memoization)."
   ]
  },
  {
   "cell_type": "markdown",
   "id": "3307ed34",
   "metadata": {
    "slideshow": {
     "slide_type": "slide"
    }
   },
   "source": [
    "### Model deployment\n",
    "\n",
    "- Main questions:\n",
    "\n",
    "    - How to serve my model?\n",
    "    - How to handle model versioning?\n",
    "    - How to handle scaling?\n",
    "\n",
    "- Possible solutions: [FastAPI](https://fastapi.tiangolo.com/), [Docker](https://www.docker.com/), [Kubernetes](https://kubernetes.io/), [Cortex](https://www.cortex.dev/), [Databricks](https://databricks.com/), stress tests."
   ]
  },
  {
   "cell_type": "markdown",
   "id": "7d549469",
   "metadata": {
    "slideshow": {
     "slide_type": "slide"
    }
   },
   "source": [
    "### Monitoring\n",
    "\n",
    "- Main questions:\n",
    "\n",
    "    - How to check model performance in production?\n",
    "    - How to prevent [model drifting](https://c3.ai/glossary/data-science/model-drift/)?\n",
    "    - How to explain model results?\n",
    "    \n",
    "- Possible solutions: [A/B testing](https://en.wikipedia.org/wiki/A/B_testing), [canary release](https://martinfowler.com/bliki/CanaryRelease.html), [explainability tools](https://github.com/EthicalML/awesome-production-machine-learning#explaining-black-box-models-and-datasets)."
   ]
  },
  {
   "cell_type": "code",
   "execution_count": null,
   "id": "9bb5ad7f",
   "metadata": {},
   "outputs": [],
   "source": []
  }
 ],
 "metadata": {
  "celltoolbar": "Diaporama",
  "kernelspec": {
   "display_name": "Python 3",
   "language": "python",
   "name": "python3"
  },
  "language_info": {
   "codemirror_mode": {
    "name": "ipython",
    "version": 3
   },
   "file_extension": ".py",
   "mimetype": "text/x-python",
   "name": "python",
   "nbconvert_exporter": "python",
   "pygments_lexer": "ipython3",
   "version": "3.7.5"
  }
 },
 "nbformat": 4,
 "nbformat_minor": 5
}
