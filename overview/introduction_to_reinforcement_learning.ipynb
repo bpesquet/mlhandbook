{
 "cells": [
  {
   "cell_type": "markdown",
   "metadata": {
    "slideshow": {
     "slide_type": "slide"
    }
   },
   "source": [
    "# Introduction to Reinforcement Learning"
   ]
  },
  {
   "cell_type": "markdown",
   "metadata": {
    "slideshow": {
     "slide_type": "slide"
    }
   },
   "source": [
    "## Environnement setup"
   ]
  },
  {
   "cell_type": "code",
   "execution_count": 1,
   "metadata": {
    "slideshow": {
     "slide_type": "slide"
    }
   },
   "outputs": [
    {
     "name": "stdout",
     "output_type": "stream",
     "text": [
      "Python version: 3.7.5\n",
      "NumPy version: 1.18.1\n"
     ]
    }
   ],
   "source": [
    "import platform\n",
    "\n",
    "print(f\"Python version: {platform.python_version()}\")\n",
    "assert platform.python_version_tuple() >= (\"3\", \"6\")\n",
    "\n",
    "import numpy as np\n",
    "import matplotlib.pyplot as plt\n",
    "import seaborn as sns\n",
    "\n",
    "print(f\"NumPy version: {np.__version__}\")"
   ]
  },
  {
   "cell_type": "code",
   "execution_count": 2,
   "metadata": {},
   "outputs": [],
   "source": [
    "# Setup plots\n",
    "%matplotlib inline\n",
    "plt.rcParams[\"figure.figsize\"] = 10, 8\n",
    "%config InlineBackend.figure_format = 'retina'\n",
    "sns.set()"
   ]
  },
  {
   "cell_type": "markdown",
   "metadata": {
    "slideshow": {
     "slide_type": "slide"
    }
   },
   "source": [
    "## What is Reinforcement Learning?"
   ]
  },
  {
   "cell_type": "markdown",
   "metadata": {
    "slideshow": {
     "slide_type": "slide"
    }
   },
   "source": [
    "### RL in a nutshell\n",
    "\n",
    "Reinforcement Learning (RL) is about **learning to control dynamic systems**.\n",
    "\n",
    "The learner (often called an *agent*) is not told explicitly which **actions** to take, but instead must discover which actions yield the most **reward** over time by trying them. \n",
    "\n",
    "Actions may affect not only the immediate reward but also the next situation and, through that, all subsequent rewards.\n",
    "\n",
    "![Learning to ride a bike!](images/prosper_bike.gif)"
   ]
  },
  {
   "cell_type": "markdown",
   "metadata": {
    "slideshow": {
     "slide_type": "slide"
    }
   },
   "source": [
    "### A specific subfield of ML\n",
    "\n",
    "RL is different from **supervised learning**, where correct answers (desired behaviour) are given to the learner during training. A RL learner must be able to learn from its own experience.\n",
    "\n",
    "RL is also different from **unsupervised learning**: finding structure in unlabeled data could help, but does not solve the reward maximisation problem which is at the heart of RL.\n",
    "\n",
    "Lastly, RL is different from **evolutionary methods**, which only consider the final outcome and ignore the intermediate steps RL is concerned with."
   ]
  },
  {
   "cell_type": "markdown",
   "metadata": {
    "slideshow": {
     "slide_type": "slide"
    }
   },
   "source": [
    "### Reinforcement Learning examples\n",
    "\n",
    "RL can be applied to a wide variety of contexts. To name a few:\n",
    "\n",
    "- controlling a robot;\n",
    "- manage a financial portfolio;\n",
    "- steering a ship;\n",
    "- playing a game."
   ]
  },
  {
   "cell_type": "markdown",
   "metadata": {
    "slideshow": {
     "slide_type": "slide"
    }
   },
   "source": [
    "### Recent breakthroughs\n",
    "\n",
    "RL is not a new field but went mainstream in recent years, mostly due to game-related feats:\n",
    "\n",
    "- [AlphaGo](https://deepmind.com/research/case-studies/alphago-the-story-so-far) beat Go champion Lee Sedol in 2016;\n",
    "- [AlphaZero](https://deepmind.com/blog/article/alphazero-shedding-new-light-grand-games-chess-shogi-and-go) achieved superhuman level at chess, shogi and go in less than 24 hours in 2017;\n",
    "- [OpenAI Five](https://openai.com/blog/openai-five/) demonstrated expert level play against other competitive Dota 2 teams in 2019;\n",
    "- [AlphaStar](https://deepmind.com/blog/article/alphastar-mastering-real-time-strategy-game-starcraft-ii) reached StarCraft 2 Grandmaster level (top 0.2% of human players) also in 2019."
   ]
  },
  {
   "cell_type": "code",
   "execution_count": 3,
   "metadata": {
    "slideshow": {
     "slide_type": "slide"
    }
   },
   "outputs": [
    {
     "data": {
      "image/jpeg": "[encoded data removed]",
      "text/html": [
       "\n",
       "        <iframe\n",
       "            width=\"400\"\n",
       "            height=\"300\"\n",
       "            src=\"https://www.youtube.com/embed/WXuK6gekU1Y\"\n",
       "            frameborder=\"0\"\n",
       "            allowfullscreen\n",
       "        ></iframe>\n",
       "        "
      ],
      "text/plain": [
       "<IPython.lib.display.YouTubeVideo at 0x111472bd0>"
      ]
     },
     "execution_count": 3,
     "metadata": {},
     "output_type": "execute_result"
    }
   ],
   "source": [
    "from IPython.display import YouTubeVideo\n",
    "\n",
    "YouTubeVideo(\"WXuK6gekU1Y\")"
   ]
  },
  {
   "cell_type": "markdown",
   "metadata": {
    "slideshow": {
     "slide_type": "slide"
    }
   },
   "source": [
    "## Problem formulation"
   ]
  },
  {
   "cell_type": "markdown",
   "metadata": {
    "slideshow": {
     "slide_type": "slide"
    }
   },
   "source": [
    "### The exploration vs. exploitation dilemna\n",
    "\n",
    "The learner has to exploit what it has already experienced, but it also has to explore in order to discover better actions. Neither exploration nor exploitation can be pursued exclusively without failing at the task at hand.\n",
    "\n",
    "![](images/exploration_exploitation.png)"
   ]
  },
  {
   "cell_type": "markdown",
   "metadata": {
    "slideshow": {
     "slide_type": "slide"
    }
   },
   "source": [
    "### General abstraction\n",
    "\n",
    "- $s_t$: observed state of the dynamic system at step $t$.\n",
    "- $a_t$: action taken by the agent at step $t$ in order to (try to) control the system.\n",
    "- $r_t$: reward received by the agent at step $t$ (result of $a_{t-1}$).\n",
    "\n",
    "![](images/rl_schema.png)"
   ]
  },
  {
   "cell_type": "markdown",
   "metadata": {
    "slideshow": {
     "slide_type": "slide"
    }
   },
   "source": [
    "### Policy\n",
    "\n",
    "The algorithm used by the learner to determine its actions is called its **policy**. Policies may be *deterministic* or *stochastic* (involving some randomness).\n",
    "\n",
    "Formally, a policy $\\pi$ is a mapping from states to probabilities of selecting each possible action.\n",
    "\n",
    "$\\pi(a|s)$: probability that the agent will choose the action $a$ when in state $s$."
   ]
  },
  {
   "cell_type": "markdown",
   "metadata": {
    "slideshow": {
     "slide_type": "slide"
    }
   },
   "source": [
    "### Reward\n",
    "\n",
    "A **reward signal** defines the goal in a RL problem. The learner’s sole objective is to maximize the total reward it receives in the long run. Rewards are its only guidance it gets.\n",
    "\n",
    "$R_t=r(s,a,s')$: reward received at step $t$ when system goes from state $s$ to state $s'$, given a chosen action $a$."
   ]
  },
  {
   "cell_type": "markdown",
   "metadata": {
    "slideshow": {
     "slide_type": "slide"
    }
   },
   "source": [
    "### Return\n",
    "\n",
    "It is common to evaluate actions based on the sum of all the rewards that came after them, usually applying a *discount factor* $\\gamma \\in [0,1]$.\n",
    "\n",
    "$G_t$: sum of discounted rewards, called **return**.\n",
    "\n",
    "$$G_t = R_{t+1} + \\gamma R_{t+2} +\\gamma^2 R_{t+3} + · · · = \\sum\\limits_{k=0}^\\infty \\gamma^k R_{t+k+1} = R_{t+1} + \\gamma G_{t+1}$$\n",
    "\n",
    "Usually $0.9<\\gamma<0.99$."
   ]
  },
  {
   "cell_type": "markdown",
   "metadata": {
    "slideshow": {
     "slide_type": "slide"
    }
   },
   "source": [
    "### Markov Decision Processes\n",
    "\n",
    "**Markov Decision Processes** (MDP) provide a mathematical framework for modeling decision making in discrete-time situations where outcomes are partly under the control of a decision maker. They were first described in the 1950s by Richard Bellman as an extension of (Andrey) **Markov chains**.\n",
    "\n",
    "The dynamics of a MDP is defined as the transition probability $p(s',r | s,a)$ of getting state $s'$ and reward $r$ after having selected action $a$ in state $s$.\n",
    "\n",
    "Many RL problems with discrete actions can be modeled as Markov Decision Processes."
   ]
  },
  {
   "cell_type": "markdown",
   "metadata": {
    "slideshow": {
     "slide_type": "slide"
    }
   },
   "source": [
    "![](images/mdp_example.png)"
   ]
  },
  {
   "cell_type": "code",
   "execution_count": 4,
   "metadata": {
    "slideshow": {
     "slide_type": "-"
    }
   },
   "outputs": [],
   "source": [
    "transition_probabilities = [  # shape=[s, a, s']\n",
    "    [[0.7, 0.3, 0.0], [1.0, 0.0, 0.0], [0.8, 0.2, 0.0]],\n",
    "    [[0.0, 1.0, 0.0], None, [0.0, 0.0, 1.0]],\n",
    "    [None, [0.8, 0.1, 0.1], None],\n",
    "]\n",
    "rewards = [  # shape=[s, a, s']\n",
    "    [[+10, 0, 0], [0, 0, 0], [0, 0, 0]],\n",
    "    [[0, 0, 0], [0, 0, 0], [0, 0, -50]],\n",
    "    [[0, 0, 0], [+40, 0, 0], [0, 0, 0]],\n",
    "]\n",
    "possible_actions = [[0, 1, 2], [0, 2], [1]]"
   ]
  },
  {
   "cell_type": "markdown",
   "metadata": {
    "slideshow": {
     "slide_type": "slide"
    }
   },
   "source": [
    "### Value function\n",
    "\n",
    "Whereas the reward signal indicates what is good in an immediate sense, a **value function** specifies what is good in the long run.\n",
    "\n",
    "Action choices should be made based on value judgments, seeking actions that bring about states of highest value, not highest reward.\n",
    "\n",
    "Unfortunately, rewards are basically given directly by the environment, whereas values must be **estimated** and re-estimated from the sequences of observations an agent makes over its entire lifetime."
   ]
  },
  {
   "cell_type": "markdown",
   "metadata": {
    "slideshow": {
     "slide_type": "slide"
    }
   },
   "source": [
    "### State value function\n",
    "\n",
    "$G^\\pi(s)$: long-term gain obtained by applying the actions from policy $\\pi$, starting in state $s$.\n",
    "\n",
    "$$G^\\pi(s) = \\sum\\limits_{k = 0}^\\infty \\gamma^k R_{t+k+1}$$\n",
    "\n",
    "$V^\\pi(s)$: averaged sum of the returns $G^\\pi(s)$ that the agent will get by starting from state $s$ and following $\\pi$ thereafter.\n",
    "\n",
    "$$V^\\pi(s) = \\mathbb{E} \\left[ G^\\pi(s) \\right] = \\mathbb{E}\\left( \\sum\\limits_{t = 0}^\\infty \\gamma^t R_t \\bigg| S_0 = s, \\pi \\right) = \\sum\\limits_{a} \\pi(a|s) \\sum\\limits_{s', r}p(s',r | s,a)\\left[r + \\gamma V^{\\pi}(s')\\right]$$"
   ]
  },
  {
   "cell_type": "markdown",
   "metadata": {
    "slideshow": {
     "slide_type": "slide"
    }
   },
   "source": [
    "### Action-state value function\n",
    "\n",
    "$Q^\\pi(s,a)$ (also called **Q-Value**): expected return starting from state $s$, taking the action $a$, and thereafter following policy $\\pi$.\n",
    "\n",
    "$$Q^\\pi(s,a) = \\mathbb{E}\\left( \\sum\\limits_{t=0}^\\infty \\gamma^t R_t \\bigg| S_0 = s, A_0=a, \\pi \\right)$$\n",
    "\n",
    "$$Q^\\pi(s,a) = \\sum\\limits_{s', r} p(s',r | s,a) \\left[r + \\gamma V^{\\pi}(s')\\right]$$"
   ]
  },
  {
   "cell_type": "markdown",
   "metadata": {
    "slideshow": {
     "slide_type": "slide"
    }
   },
   "source": [
    "### Optimality\n",
    "\n",
    "The optimal policy $\\pi^*$ is the one that achieves the biggest reward over the long run.\n",
    "\n",
    "$$V^{\\pi^*}(s) = V^*(s) = \\underset{a}{max} \\sum\\limits_{s', r}p(s',r | s,a)\\left[r + \\gamma V^*(s')\\right]= \\underset{a}{max}\\;Q^*(s,a)$$\n",
    "\n",
    "$$Q^{\\pi^*}(s,a) = Q^*(s,a) = \\sum\\limits_{s',r} p(s',r | s,a) \\left[r + \\gamma \\cdot \\underset{a'}{max} \\;Q^*(s',a')\\right]$$\n",
    "\n",
    "When the agent is in state $s$, it should choose the action with the highest Q-value for that state.\n",
    "\n",
    "$$\\pi^*(s) = \\underset{a}{argmax} \\;Q^*(s,a)$$"
   ]
  },
  {
   "cell_type": "markdown",
   "metadata": {
    "slideshow": {
     "slide_type": "slide"
    }
   },
   "source": [
    "## Tabular methods"
   ]
  },
  {
   "cell_type": "markdown",
   "metadata": {
    "slideshow": {
     "slide_type": "slide"
    }
   },
   "source": [
    "### Context\n",
    "\n",
    "When the number of states and actions is limited, approximate value functions can be represented as arrays (*tables*) and stored in memory.\n",
    "\n",
    "In this case, basic algorithms can often find exact solutions, i.e. the optimal value function and the optimal policy.\n",
    "\n",
    "These **tabular methods** implement the core ideas of RL and form the building blocks of more powerful ones, used when the state and action spaces are too large."
   ]
  },
  {
   "cell_type": "markdown",
   "metadata": {
    "slideshow": {
     "slide_type": "slide"
    }
   },
   "source": [
    "### Value Iteration\n",
    "\n",
    "Method for finding the optimal state value for each state.\n",
    "- init all state value estimates to zero;\n",
    "- iteratively update them using the following equation:\n",
    "\n",
    "$$V_{k+1}(s) \\leftarrow \\underset{a}{max} \\sum\\limits_{s', r}p(s',r | s,a)\\left[r + \\gamma V_k(s')\\right] = \\underset{a}{max}\\; Q_k(s,a)$$\n",
    "\n",
    "Given enough iterations, these estimates will converge to the optimal state values."
   ]
  },
  {
   "cell_type": "markdown",
   "metadata": {
    "slideshow": {
     "slide_type": "slide"
    }
   },
   "source": [
    "### Q-Value Iteration\n",
    "\n",
    "Like the Value iteration algorithm, iteratively compute $Q_{k+1}(s,a)$ for all $(s,a)$ until convergence.\n",
    "\n",
    "$$Q_{k+1}(s,a) \\leftarrow \\sum\\limits_{s',r} p(s',r | s,a) \\left[r + \\gamma \\cdot \\underset{a'}{max} \\;Q_k(s',a')\\right]$$"
   ]
  },
  {
   "cell_type": "code",
   "execution_count": 5,
   "metadata": {
    "slideshow": {
     "slide_type": "slide"
    }
   },
   "outputs": [
    {
     "data": {
      "text/plain": [
       "array([[  0.,   0.,   0.],\n",
       "       [  0., -inf,   0.],\n",
       "       [-inf,   0., -inf]])"
      ]
     },
     "execution_count": 5,
     "metadata": {},
     "output_type": "execute_result"
    }
   ],
   "source": [
    "# Init action-state values to 0 for all possible actions in all states\n",
    "def init_q_values():\n",
    "    Q_values = np.full((3, 3), -np.inf)  # -np.inf for impossible actions\n",
    "    for state, actions in enumerate(possible_actions):\n",
    "        Q_values[state, actions] = 0.0  # for all possible actions\n",
    "    return Q_values\n",
    "\n",
    "init_q_values()"
   ]
  },
  {
   "cell_type": "code",
   "execution_count": 6,
   "metadata": {
    "slideshow": {
     "slide_type": "slide"
    }
   },
   "outputs": [],
   "source": [
    "Q_values = init_q_values()\n",
    "\n",
    "gamma = 0.9  # Discount factor - try changing it to 0.95\n",
    "n_iterations_q_value = 50\n",
    "n_states = len(possible_actions)\n",
    "\n",
    "history_q_value = []  # Store training history for plotting (later)\n",
    "for iteration in range(n_iterations_q_value):\n",
    "    Q_prev = Q_values.copy()\n",
    "    history_q_value.append(Q_prev)\n",
    "    # Compute Q_k+1 for all states and actions\n",
    "    for s in range(n_states):\n",
    "        for a in possible_actions[s]:\n",
    "            Q_values[s, a] = np.sum(\n",
    "                [\n",
    "                    transition_probabilities[s][a][sp]\n",
    "                    * (rewards[s][a][sp] + gamma * np.max(Q_prev[sp]))\n",
    "                    for sp in range(n_states)\n",
    "                ]\n",
    "            )\n",
    "\n",
    "history_q_value = np.array(history_q_value)"
   ]
  },
  {
   "cell_type": "code",
   "execution_count": 7,
   "metadata": {
    "slideshow": {
     "slide_type": "slide"
    }
   },
   "outputs": [
    {
     "data": {
      "text/plain": [
       "array([[18.91891892, 17.02702702, 13.62162162],\n",
       "       [ 0.        ,        -inf, -4.87971488],\n",
       "       [       -inf, 50.13365013,        -inf]])"
      ]
     },
     "execution_count": 7,
     "metadata": {},
     "output_type": "execute_result"
    }
   ],
   "source": [
    "# Show final action-state values\n",
    "Q_values"
   ]
  },
  {
   "cell_type": "code",
   "execution_count": 8,
   "metadata": {},
   "outputs": [
    {
     "name": "stdout",
     "output_type": "stream",
     "text": [
      "Optimal action for state 0 is a0\n",
      "Optimal action for state 1 is a0\n",
      "Optimal action for state 2 is a1\n"
     ]
    }
   ],
   "source": [
    "def print_optimal_actions(q_values):\n",
    "    # Find action with maximum Q-value for each state\n",
    "    optimal_actions = np.argmax(q_values, axis=1)\n",
    "\n",
    "    for s in range(n_states):\n",
    "        print(f\"Optimal action for state {s} is a{optimal_actions[s]}\")\n",
    "\n",
    "\n",
    "print_optimal_actions(Q_values)"
   ]
  },
  {
   "cell_type": "markdown",
   "metadata": {
    "slideshow": {
     "slide_type": "slide"
    }
   },
   "source": [
    "### TD Learning\n",
    "\n",
    "When the transition probabilities and rewards are not known in advance, the agent has to experience each state and each transition: once to know the rewards, several times to estimate the probabilities. It must use an **exploration policy** (for example, a purely random one) to traverse the MDP. \n",
    "\n",
    "As it progresses, the **Temporal Difference (TD) Learning** algorithm updates the estimates of the state values based on the transition and rewards that are actually observed.\n",
    "\n",
    "$$V_{k+1}(s) \\leftarrow V_k(s) + \\alpha\\left(r + \\gamma V_k(s') - V_k(s)\\right) = V_k(s) + \\alpha\\cdot\\delta_k(s, a, s')$$\n",
    "\n",
    "$$V_{k+1}(s) \\leftarrow (1-\\alpha)V_k(s) + \\alpha\\left(r + \\gamma V_k(s')\\right)$$\n",
    "\n",
    "$$V(s) \\underset{\\alpha}\\leftarrow r + \\gamma V(s')$$\n",
    "\n",
    "- $\\alpha$: learning rate, usually small (example: $0.001$).\n",
    "- $\\delta_k(s, a, s') = r + \\gamma V_k(s') - V_k(s)$: TD error."
   ]
  },
  {
   "cell_type": "markdown",
   "metadata": {
    "slideshow": {
     "slide_type": "slide"
    }
   },
   "source": [
    "### Q-Learning\n",
    "\n",
    "Adapted from the Q-Value Iteration algorithm for situations in which transitions and rewards are initially unknown, **Q-Learning** watches the agent play and gradually improves its estimations of the Q-values. Once it has accurate Q-Value estimates (or close enough), then the optimal policy is choosing the action that has the highest Q-Value (i.e. the *greedy* policy).\n",
    "\n",
    "$$Q(s) \\underset{\\alpha}\\leftarrow r + \\gamma \\cdot \\underset{a}{max} \\;Q(s',a')$$"
   ]
  },
  {
   "cell_type": "code",
   "execution_count": 9,
   "metadata": {
    "slideshow": {
     "slide_type": "slide"
    }
   },
   "outputs": [],
   "source": [
    "# Perform an action and receive next state and reward\n",
    "def step(state, action):\n",
    "    probas = transition_probabilities[state][action]\n",
    "    next_state = np.random.choice(range(n_states), p=probas)\n",
    "    reward = rewards[state][action][next_state]\n",
    "    return next_state, reward\n",
    "\n",
    "\n",
    "# Explore the MDP\n",
    "def exploration_policy(state):\n",
    "    # Returns a random action\n",
    "    # This basic exploration policy is sufficient for this simple problem\n",
    "    return np.random.choice(possible_actions[state])"
   ]
  },
  {
   "cell_type": "code",
   "execution_count": 10,
   "metadata": {
    "slideshow": {
     "slide_type": "slide"
    }
   },
   "outputs": [],
   "source": [
    "Q_values = init_q_values()\n",
    "\n",
    "alpha0 = 0.05  # initial learning rate\n",
    "decay = 0.005  # learning rate decay\n",
    "gamma = 0.9  # discount factor\n",
    "n_iterations_q_learning = 10000\n",
    "state = 0  # initial state\n",
    "history_q_learning = []  # Training history\n",
    "\n",
    "for iteration in range(n_iterations_q_learning):\n",
    "    history_q_learning.append(Q_values.copy())\n",
    "    action = exploration_policy(state)\n",
    "    next_state, reward = step(state, action)\n",
    "    next_q_value = np.max(Q_values[next_state])  # greedy policy at the next step\n",
    "    alpha = alpha0 / (1 + iteration * decay)  # learning rate decay\n",
    "    Q_values[state, action] *= 1 - alpha\n",
    "    Q_values[state, action] += alpha * (reward + gamma * next_q_value)\n",
    "    state = next_state\n",
    "\n",
    "history_q_learning = np.array(history_q_learning)"
   ]
  },
  {
   "cell_type": "code",
   "execution_count": 11,
   "metadata": {
    "slideshow": {
     "slide_type": "slide"
    }
   },
   "outputs": [
    {
     "name": "stdout",
     "output_type": "stream",
     "text": [
      "[[17.54602252 15.67928154 12.80360984]\n",
      " [ 0.                -inf -9.06402578]\n",
      " [       -inf 47.71780988        -inf]]\n",
      "Optimal action for state 0 is a0\n",
      "Optimal action for state 1 is a0\n",
      "Optimal action for state 2 is a1\n"
     ]
    }
   ],
   "source": [
    "# Show final action-state values\n",
    "print(Q_values)\n",
    "\n",
    "print_optimal_actions(Q_values)"
   ]
  },
  {
   "cell_type": "code",
   "execution_count": 12,
   "metadata": {
    "slideshow": {
     "slide_type": "slide"
    }
   },
   "outputs": [
    {
     "data": {
      "image/png": "[encoded data removed]",
      "text/plain": [
       "<Figure size 864x360 with 2 Axes>"
      ]
     },
     "metadata": {
      "image/png": {
       "height": 338,
       "width": 740
      }
     },
     "output_type": "display_data"
    }
   ],
   "source": [
    "final_Q_value = history_q_value[-1, 0, 0]  # final q-value for s0 and a0\n",
    "\n",
    "# Plot training history for Q-Value Iteration and Q-Learning methods\n",
    "fig, axes = plt.subplots(1, 2, figsize=(12, 5), sharey=True)\n",
    "axes[0].set_ylabel(\"Q-Value$(s_0, a_0)$\", fontsize=14)\n",
    "axes[0].set_title(\"Q-Value Iteration\", fontsize=14)\n",
    "axes[1].set_title(\"Q-Learning\", fontsize=14)\n",
    "for ax, width, history in zip(\n",
    "    axes,\n",
    "    (n_iterations_q_value, n_iterations_q_learning),\n",
    "    (history_q_value, history_q_learning),\n",
    "):\n",
    "    ax.plot([0, width], [final_Q_value, final_Q_value], \"k--\")\n",
    "    ax.plot(np.arange(width), history[:, 0, 0], \"b-\", linewidth=2)\n",
    "    ax.set_xlabel(\"Iterations\", fontsize=14)\n",
    "    ax.axis([0, width, 0, 24])"
   ]
  },
  {
   "cell_type": "markdown",
   "metadata": {
    "slideshow": {
     "slide_type": "slide"
    }
   },
   "source": [
    "## Approximate methods"
   ]
  },
  {
   "cell_type": "markdown",
   "metadata": {
    "slideshow": {
     "slide_type": "slide"
    }
   },
   "source": [
    "## Context\n",
    "\n",
    "The previous methods become intractable for problems with arbitrarily large state spaces. In such cases, it is hopeless to find an optimal policy or the optimal value function, even in the limit of infinite time and data. The goal instead is to discover a good approximate solution, using functions with a manageable number of parameters.\n",
    "\n",
    "When dealing with large state spaces, **generalization** (the ability to make sensible decisions based on previous similar encounters) becomes a key issue. Generalization from examples is what **supervised learning** is all about, and many supervized methods have been applied to supplement RL algorithms.\n",
    "\n",
    "For years, linear combinations of handcrafted features were necessary to estimate value functions through supervised models. Recently, reseachers have started to harness the power of **Deep Learning** for this task, eliminating the need for manual feature engineering."
   ]
  },
  {
   "cell_type": "markdown",
   "metadata": {
    "slideshow": {
     "slide_type": "slide"
    }
   },
   "source": [
    "### Policy gradients\n",
    "\n",
    "Instead of trying to evaluate actions, **Policy Gradients (PG)** methods learn a parameterized policy that can select actions without consulting a value function. Policy parameters are optimized by following the *gradients* towards higher rewards.\n",
    "\n",
    "One popular class of PG algorithms, called REINFORCE algorithms, was [introduced](https://homl.info/132) back in 1992."
   ]
  },
  {
   "cell_type": "markdown",
   "metadata": {
    "slideshow": {
     "slide_type": "slide"
    }
   },
   "source": [
    "### DQN\n",
    "\n",
    "**Deep Q-Network (DQN)** was the first RL algorithm to feature a DL model. Introduced in 2014, it was used to learn to play old-school Atari games like Breakout.\n",
    "\n",
    "DQN runs a deep neural network for approximating Q-Values. The network takes a state s (i.e. the last 4 screenshots of the game) as input, and outputs an estimation of the Q-Values of all actions in that state.\n",
    "\n",
    "![](images/dqn.png)"
   ]
  },
  {
   "cell_type": "markdown",
   "metadata": {
    "slideshow": {
     "slide_type": "slide"
    }
   },
   "source": [
    "### Actor-Critic methods\n",
    "\n",
    "This family of algorithms combines Policy Gradients with Deep Q-Networks. An Actor-Critic agent contains two neural networks: a policy net and a DQN.\n",
    "\n",
    "- the DQN (critic) is trained normally, learning from the agent’s experiences;\n",
    "- the policy net (actor) relies on the action values estimated by the DQN, a bit like an athlete learning with the help of a coach. After each action selection, the critic evaluates the new state to determine whether things have gone better or worse than expected."
   ]
  },
  {
   "cell_type": "markdown",
   "metadata": {
    "slideshow": {
     "slide_type": "slide"
    }
   },
   "source": [
    "### A3C\n",
    "\n",
    "Introduced by DeepMind researchers in 2016, **Asynchronous Advantage Actor-Critic (A3C)** is an Actor-Critic variant where multiple agents learn in parallel, exploring different copies of the environment. At regular intervals, but asynchronously (hence the name), each agent pushes some weight updates to a master network, then it pulls the latest weights from that network. Each agent thus contributes to improving the master network and benefits from what the other agents have learned.\n",
    "\n",
    "![](images/A3C.png)\n"
   ]
  },
  {
   "cell_type": "markdown",
   "metadata": {
    "slideshow": {
     "slide_type": "slide"
    }
   },
   "source": [
    "### PPO\n",
    "\n",
    "**Proximal Policy Optimization (PPO)** is an algorithm based on Advantage Actor-Critic (A2C). In a nutshell, it makes RL less sensitive to step size without the tradeoffs incurred by other approaches.\n",
    "\n",
    "In 2019, OpenAI Five, based on the PPO algorithm, defeated the world champions at the multiplayer game Dota 2."
   ]
  },
  {
   "cell_type": "code",
   "execution_count": null,
   "metadata": {},
   "outputs": [],
   "source": []
  }
 ],
 "metadata": {
  "celltoolbar": "Diaporama",
  "kernelspec": {
   "display_name": "Python 3",
   "language": "python",
   "name": "python3"
  },
  "language_info": {
   "codemirror_mode": {
    "name": "ipython",
    "version": 3
   },
   "file_extension": ".py",
   "mimetype": "text/x-python",
   "name": "python",
   "nbconvert_exporter": "python",
   "pygments_lexer": "ipython3",
   "version": "3.7.5"
  }
 },
 "nbformat": 4,
 "nbformat_minor": 4
}
