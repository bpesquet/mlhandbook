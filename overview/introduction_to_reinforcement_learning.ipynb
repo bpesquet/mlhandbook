{
 "cells": [
  {
   "cell_type": "markdown",
   "metadata": {
    "slideshow": {
     "slide_type": "slide"
    }
   },
   "source": [
    "# Introduction to Reinforcement Learning"
   ]
  },
  {
   "cell_type": "markdown",
   "metadata": {
    "slideshow": {
     "slide_type": "slide"
    }
   },
   "source": [
    "## Environnement setup"
   ]
  },
  {
   "cell_type": "code",
   "execution_count": 1,
   "metadata": {
    "slideshow": {
     "slide_type": "slide"
    }
   },
   "outputs": [
    {
     "name": "stdout",
     "output_type": "stream",
     "text": [
      "Python version: 3.7.5\n",
      "NumPy version: 1.18.1\n"
     ]
    }
   ],
   "source": [
    "import platform\n",
    "\n",
    "print(f\"Python version: {platform.python_version()}\")\n",
    "assert platform.python_version_tuple() >= (\"3\", \"6\")\n",
    "\n",
    "import numpy as np\n",
    "\n",
    "print(f\"NumPy version: {np.__version__}\")"
   ]
  },
  {
   "cell_type": "markdown",
   "metadata": {
    "slideshow": {
     "slide_type": "slide"
    }
   },
   "source": [
    "## What is Reinforcement Learning?"
   ]
  },
  {
   "cell_type": "markdown",
   "metadata": {
    "slideshow": {
     "slide_type": "slide"
    }
   },
   "source": [
    "### RL in a nutshell\n",
    "\n",
    "Reinforcement Learning (RL) is about **learning to control dynamic systems**.\n",
    "\n",
    "The learner (often called an *agent*) is not told explicitly which **actions** to take, but instead must discover which actions yield the most **reward** over time by trying them. \n",
    "\n",
    "Actions may affect not only the immediate reward but also the next situation and, through that, all subsequent rewards.\n",
    "\n",
    "![Learning to ride a bike!](images/prosper_bike.gif)"
   ]
  },
  {
   "cell_type": "markdown",
   "metadata": {
    "slideshow": {
     "slide_type": "slide"
    }
   },
   "source": [
    "### A specific subfield of ML\n",
    "\n",
    "RL is different from **supervised learning**, where correct answers (desired behaviour) are given to the learner during training. A RL learner must be able to learn from its own experience.\n",
    "\n",
    "RL is also different from **unsupervised learning**: finding structure in unlabeled data could help, but does not solve the reward maximisation problem which is at the heart of RL.\n",
    "\n",
    "Lastly, RL is different from **evolutionary methods**, which only consider the final outcome and ignore the intermediate steps RL is concerned with."
   ]
  },
  {
   "cell_type": "markdown",
   "metadata": {
    "slideshow": {
     "slide_type": "slide"
    }
   },
   "source": [
    "### The exploration vs. exploitation dilemna\n",
    "\n",
    "The learner has to exploit what it has already experienced, but it also has to explore in order to discover better actions. Neither exploration nor exploitation can be pursued exclusively without failing at the task at hand.\n",
    "\n",
    "![](images/exploration_exploitation.png)"
   ]
  },
  {
   "cell_type": "markdown",
   "metadata": {
    "slideshow": {
     "slide_type": "slide"
    }
   },
   "source": [
    "### Reinforcement Learning examples\n",
    "\n",
    "RL can be applied to a wide variety of contexts. To name a few:\n",
    "\n",
    "- controlling a robot;\n",
    "- manage a financial portfolio;\n",
    "- steering a ship;\n",
    "- playing a game."
   ]
  },
  {
   "cell_type": "markdown",
   "metadata": {
    "slideshow": {
     "slide_type": "slide"
    }
   },
   "source": [
    "### Recent breakthroughs\n",
    "\n",
    "RL is not a new field but went mainstream in recent years, mostly due to game-related feats:\n",
    "\n",
    "- [AlphaGo](https://deepmind.com/research/case-studies/alphago-the-story-so-far) beat Go champion Lee Sedol in 2016;\n",
    "- [AlphaZero](https://deepmind.com/blog/article/alphazero-shedding-new-light-grand-games-chess-shogi-and-go) achieved superhuman level at chess, shogi and go in less than 24 hours in 2017;\n",
    "- [OpenAI Five](https://openai.com/blog/openai-five/) demonstrated expert level play against other competitive Dota 2 teams in 2019;\n",
    "- [AlphaStar](https://deepmind.com/blog/article/alphastar-mastering-real-time-strategy-game-starcraft-ii) reached StarCraft 2 Grandmaster level (top 0.2% of human players) also in 2019."
   ]
  },
  {
   "cell_type": "code",
   "execution_count": 2,
   "metadata": {
    "slideshow": {
     "slide_type": "slide"
    }
   },
   "outputs": [
    {
     "data": {
      "image/jpeg": "[encoded data removed]",
      "text/html": [
       "\n",
       "        <iframe\n",
       "            width=\"400\"\n",
       "            height=\"300\"\n",
       "            src=\"https://www.youtube.com/embed/WXuK6gekU1Y\"\n",
       "            frameborder=\"0\"\n",
       "            allowfullscreen\n",
       "        ></iframe>\n",
       "        "
      ],
      "text/plain": [
       "<IPython.lib.display.YouTubeVideo at 0x110b2bed0>"
      ]
     },
     "execution_count": 2,
     "metadata": {},
     "output_type": "execute_result"
    }
   ],
   "source": [
    "from IPython.display import YouTubeVideo\n",
    "\n",
    "YouTubeVideo(\"WXuK6gekU1Y\")"
   ]
  },
  {
   "cell_type": "markdown",
   "metadata": {
    "slideshow": {
     "slide_type": "slide"
    }
   },
   "source": [
    "## Problem formulation"
   ]
  },
  {
   "cell_type": "markdown",
   "metadata": {
    "slideshow": {
     "slide_type": "slide"
    }
   },
   "source": [
    "### General abstraction\n",
    "\n",
    "- $s_t$: observed state of the dynamic system at step $t$.\n",
    "- $a_t$: action taken by the agent at step $t$ in order to (try to) control the system.\n",
    "- $r_t$: reward received by the agent at step $t$ (result of $a_{t-1}$).\n",
    "\n",
    "![](images/rl_schema.png)"
   ]
  },
  {
   "cell_type": "markdown",
   "metadata": {
    "slideshow": {
     "slide_type": "slide"
    }
   },
   "source": [
    "### Policy\n",
    "\n",
    "The algorithm used by the learner to determine its actions is called its **policy**. Policies may be *deterministic* or *stochastic* (involving some randomness).\n",
    "\n",
    "Formally, a policy $\\pi$ is a mapping from states to probabilities of selecting each possible action.\n",
    "\n",
    "$\\pi(a|s)$: probability that the agent will choose the action $a$ when in state $s$."
   ]
  },
  {
   "cell_type": "markdown",
   "metadata": {
    "slideshow": {
     "slide_type": "slide"
    }
   },
   "source": [
    "### Reward\n",
    "\n",
    "A **reward signal** defines the goal in a RL problem. The learner’s sole objective is to maximize the total reward it receives in the long run. Rewards are its only guidance it gets.\n",
    "\n",
    "$R_t=r(s,a,s')$: reward received at step $t$ when system goes from state $s$ to state $s'$, given a chosen action $a$."
   ]
  },
  {
   "cell_type": "markdown",
   "metadata": {
    "slideshow": {
     "slide_type": "slide"
    }
   },
   "source": [
    "### Return\n",
    "\n",
    "It is common to evaluate actions based on the sum of all the rewards that came after them, usually applying a *discount factor* $\\gamma \\in [0,1]$.\n",
    "\n",
    "$G_t$: sum of discounted rewards, called **return**.\n",
    "\n",
    "$$G_t = R_{t+1} + \\gamma R_{t+2} +\\gamma^2 R_{t+3} + · · · = \\sum\\limits_{k=0}^\\infty \\gamma^k R_{t+k+1} = R_{t+1} + \\gamma G_{t+1}$$\n",
    "\n",
    "Usually $0.9<\\gamma<0.99$."
   ]
  },
  {
   "cell_type": "markdown",
   "metadata": {
    "slideshow": {
     "slide_type": "slide"
    }
   },
   "source": [
    "### Markov Decision Processes\n",
    "\n",
    "**Markov Decision Processes** (MDP) provide a mathematical framework for modeling decision making in discrete-time situations where outcomes are partly under the control of a decision maker.\n",
    "\n",
    "They were first described in the 1950s by Richard Bellman as an extension of (Andrey) **Markov chains**.\n",
    "\n",
    "The dynamics of a MDP is defined as the probability $p(s',r | s,a)$ of getting state $s'$ and reward $r$ after having selected action $a$ in state $s$."
   ]
  },
  {
   "cell_type": "markdown",
   "metadata": {
    "slideshow": {
     "slide_type": "slide"
    }
   },
   "source": [
    "![](images/mdp_example.png)"
   ]
  },
  {
   "cell_type": "code",
   "execution_count": null,
   "metadata": {
    "slideshow": {
     "slide_type": "-"
    }
   },
   "outputs": [],
   "source": [
    "transition_probabilities = [  # shape=[s, a, s']\n",
    "    [[0.7, 0.3, 0.0], [1.0, 0.0, 0.0], [0.8, 0.2, 0.0]],\n",
    "    [[0.0, 1.0, 0.0], None, [0.0, 0.0, 1.0]],\n",
    "    [None, [0.8, 0.1, 0.1], None],\n",
    "]\n",
    "rewards = [  # shape=[s, a, s']\n",
    "    [[+10, 0, 0], [0, 0, 0], [0, 0, 0]],\n",
    "    [[0, 0, 0], [0, 0, 0], [0, 0, -50]],\n",
    "    [[0, 0, 0], [+40, 0, 0], [0, 0, 0]],\n",
    "]\n",
    "possible_actions = [[0, 1, 2], [0, 2], [1]]"
   ]
  },
  {
   "cell_type": "markdown",
   "metadata": {
    "slideshow": {
     "slide_type": "slide"
    }
   },
   "source": [
    "### Value function\n",
    "\n",
    "Whereas the reward signal indicates what is good in an immediate sense, a **value function** specifies what is good in the long run.\n",
    "\n",
    "Action choices should be made based on value judgments, seeking actions that bring about states of highest value, not highest reward.\n",
    "\n",
    "Unfortunately, rewards are basically given directly by the environment, whereas values must be **estimated** and re-estimated from the sequences of observations an agent makes over its entire lifetime."
   ]
  },
  {
   "cell_type": "markdown",
   "metadata": {
    "slideshow": {
     "slide_type": "slide"
    }
   },
   "source": [
    "### State value function\n",
    "\n",
    "$G^\\pi(s)$: long-term gain obtained by applying the actions from policy $\\pi$, starting in state $s$.\n",
    "\n",
    "$$G^\\pi(s) = \\sum\\limits_{k = 0}^\\infty \\gamma^k R_{t+k+1}$$\n",
    "\n",
    "$V^\\pi(s)$: averaged sum of the returns $G^\\pi(s)$ that the agent will get by starting from state $s$ and following $\\pi$ thereafter.\n",
    "\n",
    "$$V^\\pi(s) = \\mathbb{E} \\left[ G^\\pi(s) \\right] = \\mathbb{E}\\left( \\sum\\limits_{t = 0}^\\infty \\gamma^t R_t \\bigg| S_0 = s, \\pi \\right) = \\sum\\limits_{a} \\pi(a|s) \\sum\\limits_{s', r}p(s',r | s,a)\\left[r + \\gamma V^{\\pi}(s')\\right]$$"
   ]
  },
  {
   "cell_type": "markdown",
   "metadata": {
    "slideshow": {
     "slide_type": "slide"
    }
   },
   "source": [
    "### Action-state value function\n",
    "\n",
    "$Q^\\pi(s,a)$: expected return starting from state $s$, taking the action $a$, and thereafter following policy $\\pi$.\n",
    "\n",
    "$$Q^\\pi(s,a) = \\mathbb{E}\\left( \\sum\\limits_{t=0}^\\infty \\gamma^t R_t \\bigg| S_0 = s, A_0=a, \\pi \\right)$$\n",
    "\n",
    "$$Q^\\pi(s,a) = \\sum\\limits_{s', r} p(s',r | s,a) \\left[r + \\gamma V^{\\pi}(s')\\right]$$"
   ]
  },
  {
   "cell_type": "markdown",
   "metadata": {
    "slideshow": {
     "slide_type": "slide"
    }
   },
   "source": [
    "### Optimality\n",
    "\n",
    "The optimal policy $\\pi^*$ is the one that achieves the biggest reward over the long run.\n",
    "\n",
    "$$V^{\\pi^*}(s) = V^*(s) = \\underset{a \\in A}{max} \\sum\\limits_{s', r}p(s',r | s,a)\\left[r + \\gamma V^*(s')\\right]= \\underset{a \\in A}{max}\\;Q^*(s,a)$$\n",
    "\n",
    "$$Q^{\\pi^*}(s,a) = Q^*(s,a) = \\sum\\limits_{s',r} p(s',r | s,a) \\left[r + \\gamma\\; \\underset{a'}{max} \\;Q^*(s',a')\\right]$$\n",
    "\n",
    "When the agent is in state $s$, it should choose the action with the highest Q-value for that state.\n",
    "\n",
    "$$\\pi^*(s) = \\underset{a \\in A}{argmax} \\;Q^*(s,a)$$"
   ]
  },
  {
   "cell_type": "markdown",
   "metadata": {
    "slideshow": {
     "slide_type": "slide"
    }
   },
   "source": [
    "## Deep RL"
   ]
  },
  {
   "cell_type": "code",
   "execution_count": null,
   "metadata": {},
   "outputs": [],
   "source": []
  }
 ],
 "metadata": {
  "celltoolbar": "Diaporama",
  "kernelspec": {
   "display_name": "Python 3",
   "language": "python",
   "name": "python3"
  },
  "language_info": {
   "codemirror_mode": {
    "name": "ipython",
    "version": 3
   },
   "file_extension": ".py",
   "mimetype": "text/x-python",
   "name": "python",
   "nbconvert_exporter": "python",
   "pygments_lexer": "ipython3",
   "version": "3.7.5"
  }
 },
 "nbformat": 4,
 "nbformat_minor": 4
}
