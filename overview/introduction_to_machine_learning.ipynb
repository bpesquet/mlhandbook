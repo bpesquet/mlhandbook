{
 "cells": [
  {
   "cell_type": "markdown",
   "metadata": {
    "slideshow": {
     "slide_type": "slide"
    }
   },
   "source": [
    "# Introduction to Machine Learning"
   ]
  },
  {
   "cell_type": "markdown",
   "metadata": {
    "slideshow": {
     "slide_type": "slide"
    }
   },
   "source": [
    "## About Artificial Intelligence"
   ]
  },
  {
   "cell_type": "markdown",
   "metadata": {
    "slideshow": {
     "slide_type": "slide"
    }
   },
   "source": [
    "### The original ambition of AI\n",
    "\n",
    "> \"AI is the science and engineering of making intelligent machines.\" ([John McCarthy](<https://en.wikipedia.org/wiki/John_McCarthy_(computer_scientist)>))\n",
    "\n",
    "> \"Every aspect of learning or any other feature of intelligence can in principle be so precisely described that a machine can be made to simulate it.\" ([Dartmouth Workshop](https://en.wikipedia.org/wiki/Dartmouth_workshop), 1956)\n",
    "\n",
    "> \"AI is the science of making machines do things that would require intelligence if done by men.\" ([Marvin Minsky](https://en.wikipedia.org/wiki/Marvin_Minsky))"
   ]
  },
  {
   "cell_type": "markdown",
   "metadata": {
    "slideshow": {
     "slide_type": "slide"
    }
   },
   "source": [
    "### A technical definition of AI\n",
    "\n",
    "> \"AI refers to systems that **display** intelligent behavior by analysing their **environment** and taking **actions** - with some degree of **autonomy** - to achieve specific **goals**.\" ([EC, 2018](https://ec.europa.eu/newsroom/dae/document.cfm?doc_id=51625))\n",
    "\n",
    "AI systems can be either:\n",
    "\n",
    "- Purely **software**-based (e.g. voice assistants, search engines, face recognition systems).\n",
    "- Embedded in **hardware** devices (e.g. robots, autonomous cars, drones)."
   ]
  },
  {
   "cell_type": "markdown",
   "metadata": {
    "slideshow": {
     "slide_type": "slide"
    }
   },
   "source": [
    "### Main areas of AI research\n",
    "\n",
    "- **Problem solving** (e.g. search algorithms, constraint solving).\n",
    "- **Reasoning** and **decision making** (e.g. logic, knowledge representation).\n",
    "- **Machine Learning**.\n",
    "- **Real-world interactions** (e.g. computer vision, natural language understanding, robotics)."
   ]
  },
  {
   "cell_type": "markdown",
   "metadata": {
    "slideshow": {
     "slide_type": "slide"
    }
   },
   "source": [
    "### AI as a moving target\n",
    "\n",
    "As soon as AI successfully solves a problem, the problem is no longer considered a part of AI.\n",
    "\n",
    "> \"[AI is whatever hasn't been done yet](https://en.wikipedia.org/wiki/AI_effect).\""
   ]
  },
  {
   "cell_type": "markdown",
   "metadata": {
    "slideshow": {
     "slide_type": "slide"
    }
   },
   "source": [
    "### The tumultuous history of AI\n",
    "\n",
    "[![The AI timeline](images/ai_timeline.png)](https://www.slideshare.net/dlavenda/ai-and-productivity)"
   ]
  },
  {
   "cell_type": "markdown",
   "metadata": {
    "slideshow": {
     "slide_type": "slide"
    }
   },
   "source": [
    "### A highly interdisciplinary field\n",
    "\n",
    "![AI fields](images/ai_fields.png)"
   ]
  },
  {
   "cell_type": "markdown",
   "metadata": {
    "slideshow": {
     "slide_type": "slide"
    }
   },
   "source": [
    "### AI as a social science\n",
    "\n",
    "AI has many social and societal implications:\n",
    "\n",
    "- Job market transformation.\n",
    "- Human/machine interactions.\n",
    "- Trust and acceptability.\n",
    "- Legal aspects and regulation.\n",
    "- Fairness.\n",
    "- Ethical use.\n",
    "- Privacy and usage of personal data.\n",
    "- ..."
   ]
  },
  {
   "cell_type": "markdown",
   "metadata": {
    "slideshow": {
     "slide_type": "slide"
    }
   },
   "source": [
    "### AI comes in different flavours\n",
    "\n",
    "- **Substitutive intelligence**: replacement of men by machines.\n",
    "- **Augmented intelligence**: human-centered AI for performance augmentation & autonomy enhancement.\n",
    "- **Hybrid intelligence**: human-machine collaboration on complex tasks."
   ]
  },
  {
   "cell_type": "markdown",
   "metadata": {
    "slideshow": {
     "slide_type": "slide"
    }
   },
   "source": [
    "### A broader definition of AI\n",
    "\n",
    "> \"AI is an **interdisciplinary** field aiming at **understanding** and **imitating** the mechanisms of **cognition** and **reasoning**, in order to **assist** or **substitute** humans in their activities.\" ([Commission d'enrichissement de la langue française](https://fr.wikipedia.org/wiki/Commission_d%27enrichissement_de_la_langue_fran%C3%A7aise), 2018)"
   ]
  },
  {
   "cell_type": "markdown",
   "metadata": {
    "slideshow": {
     "slide_type": "slide"
    }
   },
   "source": [
    "## The Machine Learning paradigm"
   ]
  },
  {
   "cell_type": "markdown",
   "metadata": {
    "slideshow": {
     "slide_type": "slide"
    }
   },
   "source": [
    "### The first definition of Machine Learning\n",
    "\n",
    "> \"The field of study that gives computers the ability to learn without being explicitly programmed.\" (Arthur Samuel, 1959)."
   ]
  },
  {
   "cell_type": "markdown",
   "metadata": {
    "slideshow": {
     "slide_type": "slide"
    }
   },
   "source": [
    "### Machine Learning in a nutshell\n",
    "\n",
    "Set of techniques for giving machines the ability to to find **patterns** and extract **rules** from data, in order to:\n",
    "\n",
    "* **Identify** or **classify** elements.\n",
    "* Detect **tendencies**.\n",
    "* Make **predictions**.\n",
    "\n",
    "As more data is fed into the system, results get better: performance improves with experience.\n",
    "\n",
    "a.k.a. **Statistical Learning**."
   ]
  },
  {
   "cell_type": "markdown",
   "metadata": {
    "slideshow": {
     "slide_type": "slide"
    }
   },
   "source": [
    "### A new paradigm..."
   ]
  },
  {
   "cell_type": "markdown",
   "metadata": {
    "slideshow": {
     "slide_type": "fragment"
    }
   },
   "source": [
    "![Programming paradigm](images/programming_paradigm.png)"
   ]
  },
  {
   "cell_type": "markdown",
   "metadata": {
    "slideshow": {
     "slide_type": "fragment"
    }
   },
   "source": [
    "![Training paradigm](images/training_paradigm.png)"
   ]
  },
  {
   "cell_type": "markdown",
   "metadata": {
    "slideshow": {
     "slide_type": "slide"
    }
   },
   "source": [
    "### ... Or merely a bag of tricks?\n",
    "\n",
    "[![ML on XKCD](images/ml_xkcd.png)](https://xkcd.com/1838/)"
   ]
  },
  {
   "cell_type": "markdown",
   "metadata": {
    "slideshow": {
     "slide_type": "slide"
    }
   },
   "source": [
    "### The Machine Learning workflow\n",
    "\n",
    "1. **Frame** the problem.\n",
    "1. Collect, analyze and prepare **data**.\n",
    "1. Select and train several **models** on data.\n",
    "1. **Tune** the most promising model.\n",
    "1. **Deploy** the model to production."
   ]
  },
  {
   "cell_type": "markdown",
   "metadata": {
    "slideshow": {
     "slide_type": "slide"
    }
   },
   "source": [
    "### ML is not a silver bullet!\n",
    "\n",
    "- Some use cases are a better fit for ML than others:\n",
    "  - Difficulty to express the actions as rules.\n",
    "  - Data too complex for traditional analytical methods.\n",
    "  - Performance > interpretability.\n",
    "- Data quality is paramount."
   ]
  },
  {
   "cell_type": "markdown",
   "metadata": {
    "slideshow": {
     "slide_type": "slide"
    }
   },
   "source": [
    "## The Machine Learning landscape"
   ]
  },
  {
   "cell_type": "markdown",
   "metadata": {
    "slideshow": {
     "slide_type": "slide"
    }
   },
   "source": [
    "### AI, Machine Learning and Deep Learning\n",
    "\n",
    "![AI/ML/DL Venn diagram](images/ai_ml_dl.png)"
   ]
  },
  {
   "cell_type": "markdown",
   "metadata": {
    "slideshow": {
     "slide_type": "slide"
    }
   },
   "source": [
    "### Typology of ML systems\n",
    "\n",
    "ML systems are traditionally classified in three categories, according to the amount and type of human supervision during training. [Hybrid approaches](https://hackernoon.com/self-supervised-learning-gets-us-closer-to-autonomous-learning-be77e6c86b5a) exist.\n",
    "\n",
    "- **Supervised Learning**: expected results (called *labels* or *tags*) are given to the system along with training data.\n",
    "- **Unsupervised Learning**: training data comes without the expected results. The system must discover some structure in the data by itself.\n",
    "- **Reinforcement Learning**: without being given an explicit goal, the system's decisions produce a **reward** it tries to maximize."
   ]
  },
  {
   "cell_type": "markdown",
   "metadata": {
    "slideshow": {
     "slide_type": "slide"
    }
   },
   "source": [
    "![ML category tree](images/ml_tree.png)"
   ]
  },
  {
   "cell_type": "markdown",
   "metadata": {
    "slideshow": {
     "slide_type": "slide"
    }
   },
   "source": [
    "### Regression\n",
    "\n",
    "The system predicts **continuous** values. Examples: temperature forecasting, asset price prediction...\n",
    "\n",
    "![Regression example](images/ml_regression.png)"
   ]
  },
  {
   "cell_type": "markdown",
   "metadata": {
    "slideshow": {
     "slide_type": "slide"
    }
   },
   "source": [
    "### Classification\n",
    "\n",
    "The system predicts **discrete** values: input is **categorized**.\n",
    "\n",
    "![Classification example](images/ml_classification.png)"
   ]
  },
  {
   "cell_type": "markdown",
   "metadata": {
    "slideshow": {
     "slide_type": "slide"
    }
   },
   "source": [
    "### Classification types\n",
    "\n",
    "- **Binary**: only two possibles classes. Examples: cat/not a cat, spam/legit mail, benign/malignant tumor.\n",
    "- **Multiclass**: several mutually exclusive classes. Example: handwritten digit recognition.\n",
    "- **Multilabel**: several non-mutually exclusive classes. Example: face recognition. "
   ]
  },
  {
   "cell_type": "markdown",
   "metadata": {
    "slideshow": {
     "slide_type": "slide"
    }
   },
   "source": [
    "### Clustering\n",
    "\n",
    "Data is partitioned into groups.\n",
    "\n",
    "![ML clustering example](images/ml_clustering.png)"
   ]
  },
  {
   "cell_type": "markdown",
   "metadata": {
    "slideshow": {
     "slide_type": "slide"
    }
   },
   "source": [
    "### Anomaly Detection\n",
    "\n",
    "The system is able to detect abnomal samples (*outliers*).\n",
    "\n",
    "![ML anomaly detection example](images/ml_anomaly_detection.png)"
   ]
  },
  {
   "cell_type": "markdown",
   "metadata": {
    "slideshow": {
     "slide_type": "slide"
    }
   },
   "source": [
    "### Game AI"
   ]
  },
  {
   "cell_type": "code",
   "execution_count": 1,
   "metadata": {
    "slideshow": {
     "slide_type": "-"
    },
    "tags": [
     "hide-input"
    ]
   },
   "outputs": [
    {
     "data": {
      "image/jpeg": "[encoded data removed]",
      "text/html": [
       "\n",
       "        <iframe\n",
       "            width=\"400\"\n",
       "            height=\"300\"\n",
       "            src=\"https://www.youtube.com/embed/TmPfTpjtdgg\"\n",
       "            frameborder=\"0\"\n",
       "            allowfullscreen\n",
       "            \n",
       "        ></iframe>\n",
       "        "
      ],
      "text/plain": [
       "<IPython.lib.display.YouTubeVideo at 0x108766a90>"
      ]
     },
     "execution_count": 1,
     "metadata": {},
     "output_type": "execute_result"
    }
   ],
   "source": [
    "from IPython.display import YouTubeVideo\n",
    "\n",
    "YouTubeVideo(\"TmPfTpjtdgg\")"
   ]
  },
  {
   "cell_type": "markdown",
   "metadata": {
    "slideshow": {
     "slide_type": "slide"
    }
   },
   "source": [
    "## How do machines learn, actually?"
   ]
  },
  {
   "cell_type": "markdown",
   "metadata": {
    "slideshow": {
     "slide_type": "slide"
    }
   },
   "source": [
    "### Algorithm #1: K-Nearest Neighbors\n",
    "\n",
    "Prediction is based on the `k` nearest neighbors of a data sample.\n",
    "\n",
    "[![K-NN](images/knn.png)](https://en.wikipedia.org/wiki/K-nearest_neighbors_algorithm)"
   ]
  },
  {
   "cell_type": "markdown",
   "metadata": {
    "slideshow": {
     "slide_type": "slide"
    }
   },
   "source": [
    "### Algorithm #2: Decision Trees\n",
    "\n",
    "Build a tree-like structure based on a series of discovered questions on the data.\n",
    "\n",
    "![Decision Tree for Iris dataset](images/dt_iris.png)"
   ]
  },
  {
   "cell_type": "markdown",
   "metadata": {
    "slideshow": {
     "slide_type": "slide"
    }
   },
   "source": [
    "### Algorithm #3: Neural Networks\n",
    "\n",
    "Layers of loosely neuron-inpired computation units that can approximate any continuous function.\n",
    "\n",
    "![Neuron output](images/neuron_output.png)"
   ]
  },
  {
   "cell_type": "markdown",
   "metadata": {
    "slideshow": {
     "slide_type": "slide"
    }
   },
   "source": [
    "![Dog or Cat?](images/neural_net.gif)"
   ]
  },
  {
   "cell_type": "markdown",
   "metadata": {
    "slideshow": {
     "slide_type": "slide"
    }
   },
   "source": [
    "## The advent of Deep Learning"
   ]
  },
  {
   "cell_type": "markdown",
   "metadata": {
    "slideshow": {
     "slide_type": "slide"
    }
   },
   "source": [
    "### The Deep Learning tsunami\n",
    "\n",
    "DL is a subfield of Machine Learning consisting of multilayered neural networks trained on vast amounts of data.\n",
    "\n",
    "[![AlexNet'12 (simplified)](images/alexnet.png)](https://papers.nips.cc/paper/4824-imagenet-classification-with-deep-convolutional-neural-networks.pdf)\n",
    "\n",
    "Since 2010, DL-based approaches outperformed previous state-of-the-art techniques in many fields (language translation, image and scene recognition...)."
   ]
  },
  {
   "cell_type": "markdown",
   "metadata": {
    "slideshow": {
     "slide_type": "slide"
    }
   },
   "source": [
    "### Reasons for success\n",
    "\n",
    "- Explosion of available data.\n",
    "- Huge progress in computing power.\n",
    "- Refinement of many existing algorithms.\n",
    "- Availability of sophisticated tools for building ML-powered systems.\n",
    "\n",
    "![TF, Keras and PyTorch logos](images/tf_keras_pytorch.png)"
   ]
  },
  {
   "cell_type": "markdown",
   "metadata": {
    "slideshow": {
     "slide_type": "slide"
    }
   },
   "source": [
    "![Big data universe](images/big_data_universe.png)"
   ]
  },
  {
   "cell_type": "markdown",
   "metadata": {
    "slideshow": {
     "slide_type": "slide"
    }
   },
   "source": [
    "![Computer power sheet](images/infographic2-intel-past-present.gif)"
   ]
  },
  {
   "cell_type": "markdown",
   "metadata": {
    "slideshow": {
     "slide_type": "slide"
    }
   },
   "source": [
    "### From labs to everyday life in 25 years\n",
    "\n",
    "[![LeCun - LeNet](images/lecun_lenet.gif)](http://yann.lecun.com/exdb/lenet/)\n",
    "\n",
    "[![Facial recognition in Chinese elementary school](images/china_school_facial_reco.gif)](https://twitter.com/mbrennanchina/status/1203687857849716736)"
   ]
  },
  {
   "cell_type": "code",
   "execution_count": null,
   "metadata": {},
   "outputs": [],
   "source": []
  }
 ],
 "metadata": {
  "celltoolbar": "Diaporama",
  "kernelspec": {
   "display_name": "Python 3 (ipykernel)",
   "language": "python",
   "name": "python3"
  },
  "language_info": {
   "codemirror_mode": {
    "name": "ipython",
    "version": 3
   },
   "file_extension": ".py",
   "mimetype": "text/x-python",
   "name": "python",
   "nbconvert_exporter": "python",
   "pygments_lexer": "ipython3",
   "version": "3.11.1"
  }
 },
 "nbformat": 4,
 "nbformat_minor": 4
}
